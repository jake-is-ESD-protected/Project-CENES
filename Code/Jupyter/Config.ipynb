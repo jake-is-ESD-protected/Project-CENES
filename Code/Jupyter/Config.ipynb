{
 "cells": [
  {
   "cell_type": "markdown",
   "metadata": {},
   "source": [
    "# Configure parameters of pipeline"
   ]
  },
  {
   "cell_type": "code",
   "execution_count": 9,
   "metadata": {},
   "outputs": [],
   "source": [
    "import pipeline.config as conf"
   ]
  },
  {
   "cell_type": "code",
   "execution_count": 10,
   "metadata": {},
   "outputs": [
    {
     "name": "stdout",
     "output_type": "stream",
     "text": [
      "CNN_name: esc50_model_v9\n",
      "extr_txt_fp: Datasets/Feature_extraction/th_oct_feats.txt\n",
      "label_txt_fp: Datasets/Feature_extraction/labels.txt\n",
      "leq_txt_fp: Datasets/Feature_extraction/LEQs.txt\n",
      "source_dir: Datasets/ESC50_augmented/\n",
      "kernel_size: [5, 5]\n",
      "pool_size: [2, 2]\n",
      "batch_size: 50\n",
      "epochs: 70\n",
      "fs: 32000\n",
      "bit_dpt: 24\n",
      "fmin: 20\n",
      "fmax: 12800\n",
      "oct_bw_ratio: 0.3333333333333333\n",
      "order: 8\n",
      "n_coeffs: 6\n",
      "dec_stages: 4\n",
      "dec_ord: 10\n",
      "frame_size: 1280\n",
      "window_size: 32000\n",
      "max_dur: 6\n",
      "threshold: -25\n",
      "augmented: True\n",
      "n_bands: 28\n",
      "n_sections: 4\n",
      "fps: 25\n",
      "class_map: ['airplane', 'car_horn', 'engine', 'helicopter', 'train']\n"
     ]
    }
   ],
   "source": [
    "cnn = input(\"Enter the new CNN name: \")\n",
    "y = input(f'Name CNN \"{cnn}\"? Confirm (y/n):')\n",
    "\n",
    "if y == 'y':\n",
    "\n",
    "    param_dict = {  \n",
    "        \"CNN_name\":                 cnn,\n",
    "        \"extr_txt_fp\":              \"Datasets/Feature_extraction/th_oct_feats.txt\",\n",
    "        \"label_txt_fp\":             \"Datasets/Feature_extraction/labels.txt\",\n",
    "        \"leq_txt_fp\":               \"Datasets/Feature_extraction/LEQs.txt\",\n",
    "        \"source_dir\":               \"Datasets/ESC50_augmented/\",\n",
    "        \"kernel_size\":              (5, 5),\n",
    "        \"pool_size\":                (2, 2),\n",
    "        \"batch_size\":               50,\n",
    "        \"epochs\":                   70,\n",
    "        \"fs\":                       32000,  # sample rate\n",
    "        \"bit_dpt\":                  24,\n",
    "        \"fmin\":                     20,     # lowest f of interest\n",
    "        \"fmax\":                     12800,  # highest f of interest\n",
    "        \"oct_bw_ratio\":             1/3,    # octave / amount of subdivisions\n",
    "        \"order\":                    8,      # order of octave filters\n",
    "        \"n_coeffs\":                 6,      # constant, definition of sos-matrix\n",
    "        \"dec_stages\":               4,      # number of decimations across bank\n",
    "        \"dec_ord\":                  10,     # order of decimation AA-filters\n",
    "        \"frame_size\":               1280,   # framing size\n",
    "        \"window_size\":              32000,  # size of a window (max size of input to CNN)\n",
    "        \"max_dur\":                  6,      # max duration of sound in s\n",
    "        \"threshold\":                -25,\n",
    "        \"augmented\":                True\n",
    "    }\n",
    "\n",
    "    conf.save_params(param_dict)\n",
    "    conf.print_dict_params()\n",
    "\n",
    "else:\n",
    "    print('Abort parameter selection.\\nexit.')"
   ]
  }
 ],
 "metadata": {
  "interpreter": {
   "hash": "b31d71e4aa4037fed73b4783f033a01dc4358c0a13d4b99ab1e5c40483db12d5"
  },
  "kernelspec": {
   "display_name": "Python 3.9.6 64-bit",
   "language": "python",
   "name": "python3"
  },
  "language_info": {
   "codemirror_mode": {
    "name": "ipython",
    "version": 3
   },
   "file_extension": ".py",
   "mimetype": "text/x-python",
   "name": "python",
   "nbconvert_exporter": "python",
   "pygments_lexer": "ipython3",
   "version": "3.9.6"
  },
  "orig_nbformat": 4
 },
 "nbformat": 4,
 "nbformat_minor": 2
}
