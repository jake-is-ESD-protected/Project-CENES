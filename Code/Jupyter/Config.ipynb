{
 "cells": [
  {
   "cell_type": "markdown",
   "metadata": {},
   "source": [
    "# Configure parameters of pipeline"
   ]
  },
  {
   "cell_type": "code",
   "execution_count": null,
   "metadata": {},
   "outputs": [],
   "source": [
    "import pipeline.config as conf"
   ]
  },
  {
   "cell_type": "code",
   "execution_count": 1,
   "metadata": {},
   "outputs": [
    {
     "name": "stdout",
     "output_type": "stream",
     "text": [
      "CNN_name: N4CED_V-0-2\n",
      "extr_txt_fp: Datasets/Feature_extraction/th_oct_coeffs.txt\n",
      "label_txt_fp: Datasets/Feature_extraction/labels.txt\n",
      "source_dir: Datasets/UrbanSound8k_augmented/\n",
      "fs: 48000\n",
      "fmin: 100\n",
      "fmax: 12800\n",
      "oct_bw_ratio: 0.3333333333333333\n",
      "order: 8\n",
      "n_coeffs: 6\n",
      "dec_stages: 4\n",
      "dec_ord: 10\n",
      "frame_size: 1000\n",
      "window_size: 48000\n",
      "max_dur: 5\n",
      "n_sections: 4\n",
      "fps: 48\n",
      "class_map: ['car_horn', 'children_playing', 'dog_bark', 'drilling', 'engine_idling', 'jackhammer', 'street_music']\n"
     ]
    }
   ],
   "source": [
    "param_dict = {  \n",
    "    \"CNN_name\":                 \"N4CED_V-0-2\",\n",
    "    \"extr_txt_fp\":              \"Datasets/Feature_extraction/th_oct_coeffs.txt\",\n",
    "    \"label_txt_fp\":             \"Datasets/Feature_extraction/labels.txt\",\n",
    "    \"source_dir\":               \"Datasets/UrbanSound8k_augmented/\",\n",
    "    \"fs\":                       48000,  # sample rate\n",
    "    \"fmin\":                     100,    # lowest f of interest\n",
    "    \"fmax\":                     12800,  # highest f of interest\n",
    "    \"oct_bw_ratio\":             1/3,    # octave / amount of subdivisions\n",
    "    \"order\":                    8,      # order of octave filters\n",
    "    \"n_coeffs\":                 6,      # constant, definition of sos-matrix\n",
    "    \"dec_stages\":               4,      # number of decimations across bank\n",
    "    \"dec_ord\":                  10,     # order of decimation AA-filters\n",
    "    \"frame_size\":               1000,   # framing size\n",
    "    \"window_size\":              48000,  # size of a window (max size of input to CNN)\n",
    "    \"max_dur\":                  5       # max duration of sound in s\n",
    "}\n",
    "\n",
    "conf.save_params(param_dict)\n",
    "conf.print_dict_params()"
   ]
  }
 ],
 "metadata": {
  "interpreter": {
   "hash": "7e71001bbcb40923f47462b7c1ef05bb6a19d6b3e9669eaa251b4fa4ec4ce79f"
  },
  "kernelspec": {
   "display_name": "Python 3.9.6 64-bit",
   "language": "python",
   "name": "python3"
  },
  "language_info": {
   "codemirror_mode": {
    "name": "ipython",
    "version": 3
   },
   "file_extension": ".py",
   "mimetype": "text/x-python",
   "name": "python",
   "nbconvert_exporter": "python",
   "pygments_lexer": "ipython3",
   "version": "3.9.6"
  },
  "orig_nbformat": 4
 },
 "nbformat": 4,
 "nbformat_minor": 2
}
