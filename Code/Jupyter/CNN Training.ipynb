{
 "cells": [
  {
   "cell_type": "markdown",
   "metadata": {},
   "source": [
    "# Training the CNN"
   ]
  },
  {
   "cell_type": "code",
   "execution_count": 1,
   "metadata": {},
   "outputs": [],
   "source": [
    "import numpy as np\n",
    "from sklearn.model_selection import train_test_split\n",
    "import pipeline.config as conf\n",
    "import pipeline.scale as scale\n",
    "import octafilt3r.plot as o3p"
   ]
  },
  {
   "cell_type": "code",
   "execution_count": 2,
   "metadata": {},
   "outputs": [],
   "source": [
    "param_dict = conf.open_params()"
   ]
  },
  {
   "cell_type": "code",
   "execution_count": 3,
   "metadata": {},
   "outputs": [],
   "source": [
    "labels = np.loadtxt(param_dict[\"label_txt_fp\"], dtype='str')\n",
    "df_2d = np.loadtxt(param_dict[\"extr_txt_fp\"])\n",
    "df = df_2d.reshape(df_2d.shape[0], df_2d.shape[1] // param_dict[\"n_bands\"], param_dict[\"n_bands\"])"
   ]
  },
  {
   "cell_type": "code",
   "execution_count": 4,
   "metadata": {},
   "outputs": [
    {
     "name": "stdout",
     "output_type": "stream",
     "text": [
      "(136620, 40, 28)\n"
     ]
    },
    {
     "data": {
      "image/png": "[encoded data removed]",
      "text/plain": [
       "<Figure size 1008x576 with 2 Axes>"
      ]
     },
     "metadata": {
      "needs_background": "light"
     },
     "output_type": "display_data"
    }
   ],
   "source": [
    "# sanity check:\n",
    "print(df.shape)\n",
    "o3p.oct_spectrogram(df[10000], \n",
    "                    param_dict['fs'], \n",
    "                    param_dict['frame_size'], \n",
    "                    param_dict['fmax'], \n",
    "                    param_dict['fmin'], \n",
    "                    param_dict['oct_bw_ratio'], \n",
    "                    labels[10000])"
   ]
  },
  {
   "cell_type": "code",
   "execution_count": 5,
   "metadata": {},
   "outputs": [
    {
     "name": "stdout",
     "output_type": "stream",
     "text": [
      "Encoded labels:\n",
      "[0 0 0 ... 6 6 6]\n",
      "Shape of data frame: (136620, 40, 28, 1)\n"
     ]
    }
   ],
   "source": [
    "y, encoder = scale.label_encode(labels)\n",
    "X, scaler = scale.data_scaler(df)\n",
    "print(f'Encoded labels:\\n{y}')\n",
    "print(f'Shape of data frame: {X.shape}')\n",
    "# Dividing data into training and Testing set\n",
    "X_train, X_test, y_train, y_test, = train_test_split(X, y, test_size=0.2)\n"
   ]
  },
  {
   "cell_type": "code",
   "execution_count": 6,
   "metadata": {},
   "outputs": [
    {
     "name": "stdout",
     "output_type": "stream",
     "text": [
      "Input shape: (40, 28, 1)\n",
      "Output shape: 7\n",
      "Epoch 1/50\n",
      "2186/2186 [==============================] - 81s 37ms/step - loss: 2.0378 - accuracy: 0.1844\n",
      "Epoch 2/50\n",
      "2186/2186 [==============================] - 75s 35ms/step - loss: 1.9285 - accuracy: 0.2632\n",
      "Epoch 3/50\n",
      "2186/2186 [==============================] - 77s 35ms/step - loss: 1.7453 - accuracy: 0.3348\n",
      "Epoch 4/50\n",
      "2186/2186 [==============================] - 75s 34ms/step - loss: 1.6625 - accuracy: 0.3729\n",
      "Epoch 5/50\n",
      "2186/2186 [==============================] - 74s 34ms/step - loss: 1.6026 - accuracy: 0.4049\n",
      "Epoch 6/50\n",
      "2186/2186 [==============================] - 65s 30ms/step - loss: 1.5592 - accuracy: 0.42770s - loss: 1.5593 \n",
      "Epoch 7/50\n",
      "2186/2186 [==============================] - 66s 30ms/step - loss: 1.5268 - accuracy: 0.4447\n",
      "Epoch 8/50\n",
      "2186/2186 [==============================] - 65s 30ms/step - loss: 1.5024 - accuracy: 0.4580\n",
      "Epoch 9/50\n",
      "2186/2186 [==============================] - 64s 29ms/step - loss: 1.4813 - accuracy: 0.4684\n",
      "Epoch 10/50\n",
      "2186/2186 [==============================] - 66s 30ms/step - loss: 1.4626 - accuracy: 0.4756\n",
      "Epoch 11/50\n",
      "2186/2186 [==============================] - 73s 34ms/step - loss: 1.4459 - accuracy: 0.4849\n",
      "Epoch 12/50\n",
      "2186/2186 [==============================] - 78s 36ms/step - loss: 1.4309 - accuracy: 0.49191s - loss: 1.4313 - accu - ETA: \n",
      "Epoch 13/50\n",
      "2186/2186 [==============================] - 79s 36ms/step - loss: 1.4151 - accuracy: 0.5003\n",
      "Epoch 14/50\n",
      "2186/2186 [==============================] - 80s 37ms/step - loss: 1.4035 - accuracy: 0.5052\n",
      "Epoch 15/50\n",
      "2186/2186 [==============================] - 81s 37ms/step - loss: 1.3909 - accuracy: 0.5107\n",
      "Epoch 16/50\n",
      "2186/2186 [==============================] - 81s 37ms/step - loss: 1.3781 - accuracy: 0.5144\n",
      "Epoch 17/50\n",
      "2186/2186 [==============================] - 80s 37ms/step - loss: 1.3661 - accuracy: 0.5214\n",
      "Epoch 18/50\n",
      "2186/2186 [==============================] - 71s 32ms/step - loss: 1.3529 - accuracy: 0.5288\n",
      "Epoch 19/50\n",
      "2186/2186 [==============================] - 68s 31ms/step - loss: 1.3406 - accuracy: 0.5349\n",
      "Epoch 20/50\n",
      "2186/2186 [==============================] - 69s 31ms/step - loss: 1.3270 - accuracy: 0.5411\n",
      "Epoch 21/50\n",
      "2186/2186 [==============================] - 70s 32ms/step - loss: 1.3147 - accuracy: 0.5468\n",
      "Epoch 22/50\n",
      "2186/2186 [==============================] - 69s 32ms/step - loss: 1.3031 - accuracy: 0.5530\n",
      "Epoch 23/50\n",
      "2186/2186 [==============================] - 67s 31ms/step - loss: 1.2913 - accuracy: 0.5589\n",
      "Epoch 24/50\n",
      "2186/2186 [==============================] - 64s 29ms/step - loss: 1.2812 - accuracy: 0.5613\n",
      "Epoch 25/50\n",
      "2186/2186 [==============================] - 65s 30ms/step - loss: 1.2711 - accuracy: 0.5687\n",
      "Epoch 26/50\n",
      "2186/2186 [==============================] - 67s 31ms/step - loss: 1.2622 - accuracy: 0.5721\n",
      "Epoch 27/50\n",
      "2186/2186 [==============================] - 71s 32ms/step - loss: 1.2532 - accuracy: 0.5744\n",
      "Epoch 28/50\n",
      "2186/2186 [==============================] - 69s 32ms/step - loss: 1.2457 - accuracy: 0.5786\n",
      "Epoch 29/50\n",
      "2186/2186 [==============================] - 69s 31ms/step - loss: 1.2369 - accuracy: 0.5813\n",
      "Epoch 30/50\n",
      "2186/2186 [==============================] - 67s 31ms/step - loss: 1.2285 - accuracy: 0.5863\n",
      "Epoch 31/50\n",
      "2186/2186 [==============================] - 67s 30ms/step - loss: 1.2208 - accuracy: 0.5869\n",
      "Epoch 32/50\n",
      "2186/2186 [==============================] - 65s 30ms/step - loss: 1.2143 - accuracy: 0.5909\n",
      "Epoch 33/50\n",
      "2186/2186 [==============================] - 69s 31ms/step - loss: 1.2058 - accuracy: 0.5928\n",
      "Epoch 34/50\n",
      "2186/2186 [==============================] - 67s 31ms/step - loss: 1.2010 - accuracy: 0.5956\n",
      "Epoch 35/50\n",
      "2186/2186 [==============================] - 69s 32ms/step - loss: 1.1952 - accuracy: 0.5984\n",
      "Epoch 36/50\n",
      "2186/2186 [==============================] - 67s 31ms/step - loss: 1.1884 - accuracy: 0.6008\n",
      "Epoch 37/50\n",
      "2186/2186 [==============================] - 66s 30ms/step - loss: 1.1843 - accuracy: 0.6024\n",
      "Epoch 38/50\n",
      "2186/2186 [==============================] - 68s 31ms/step - loss: 1.1761 - accuracy: 0.6027\n",
      "Epoch 39/50\n",
      "2186/2186 [==============================] - 75s 34ms/step - loss: 1.1706 - accuracy: 0.6063\n",
      "Epoch 40/50\n",
      "2186/2186 [==============================] - 70s 32ms/step - loss: 1.1660 - accuracy: 0.6082\n",
      "Epoch 41/50\n",
      "2186/2186 [==============================] - 71s 32ms/step - loss: 1.1585 - accuracy: 0.6107\n",
      "Epoch 42/50\n",
      "2186/2186 [==============================] - 71s 33ms/step - loss: 1.1546 - accuracy: 0.6127\n",
      "Epoch 43/50\n",
      "2186/2186 [==============================] - 65s 30ms/step - loss: 1.1495 - accuracy: 0.6154\n",
      "Epoch 44/50\n",
      "2186/2186 [==============================] - 68s 31ms/step - loss: 1.1443 - accuracy: 0.6160\n",
      "Epoch 45/50\n",
      "2186/2186 [==============================] - 71s 32ms/step - loss: 1.1395 - accuracy: 0.6197\n",
      "Epoch 46/50\n",
      "2186/2186 [==============================] - 68s 31ms/step - loss: 1.1369 - accuracy: 0.6187\n",
      "Epoch 47/50\n",
      "2186/2186 [==============================] - 69s 32ms/step - loss: 1.1309 - accuracy: 0.6216\n",
      "Epoch 48/50\n",
      "2186/2186 [==============================] - 68s 31ms/step - loss: 1.1258 - accuracy: 0.6226\n",
      "Epoch 49/50\n",
      "2186/2186 [==============================] - 69s 32ms/step - loss: 1.1227 - accuracy: 0.6249\n",
      "Epoch 50/50\n",
      "2186/2186 [==============================] - 70s 32ms/step - loss: 1.1178 - accuracy: 0.6268\n"
     ]
    },
    {
     "data": {
      "text/plain": [
       "<keras.callbacks.History at 0x18b337941f0>"
      ]
     },
     "execution_count": 6,
     "metadata": {},
     "output_type": "execute_result"
    }
   ],
   "source": [
    "# https://gist.github.com/jaron/5b17c9f37f351780744aefc74f93d3ae\n",
    "from keras.models import Sequential\n",
    "from keras.layers import Dense, Dropout, Activation, Flatten\n",
    "from keras.layers import MaxPooling2D, Conv2D\n",
    "from tensorflow.keras.optimizers import SGD\n",
    "from keras.regularizers import l2\n",
    "from sklearn import metrics\n",
    "\n",
    "n_classes = max(y_test) + 1 # highest index + 1 is the amount of classes\n",
    "print(f'Input shape: {X[0].shape}')\n",
    "print(f'Output shape: {n_classes}')\n",
    "\n",
    "layer_1 = [\n",
    "    Conv2D(24, param_dict[\"kernel_size\"], padding='same', input_shape=X[0].shape),\n",
    "    MaxPooling2D(pool_size=param_dict[\"pool_size\"]),\n",
    "    Activation('relu')\n",
    "]\n",
    "\n",
    "layer_2 = [\n",
    "    Conv2D(48, param_dict[\"kernel_size\"], padding='same'),\n",
    "    MaxPooling2D(pool_size=param_dict[\"pool_size\"]),\n",
    "    Activation('relu')\n",
    "]\n",
    "\n",
    "layer_3 = [\n",
    "    Conv2D(48, param_dict[\"kernel_size\"], padding='valid'),\n",
    "    Activation('relu'),\n",
    "]\n",
    "\n",
    "layer_4 = [\n",
    "    Flatten(),\n",
    "    Dropout(0.5),\n",
    "    Dense(64, kernel_regularizer=l2(0.001)),\n",
    "    Activation('relu')\n",
    "]\n",
    "\n",
    "layer_5 = [\n",
    "    Dropout(0.5),\n",
    "    Dense(n_classes, kernel_regularizer=l2(0.001)),\n",
    "    Activation('softmax')\n",
    "]\n",
    "\n",
    "layers = layer_1 + layer_2 + layer_3 + layer_4 + layer_5\n",
    "model = Sequential(layers)\n",
    "\n",
    "sgd = SGD(learning_rate=0.001, momentum=0.0, decay=0.0, nesterov=False)\n",
    "model.compile(loss='sparse_categorical_crossentropy', metrics=['accuracy'], optimizer=sgd)\n",
    "model.fit(X_train, y_train, batch_size=param_dict[\"batch_size\"], epochs=param_dict[\"epochs\"])"
   ]
  },
  {
   "cell_type": "code",
   "execution_count": 7,
   "metadata": {},
   "outputs": [
    {
     "name": "stdout",
     "output_type": "stream",
     "text": [
      "ROC: 0.917\n",
      "6831/6831 [==============================] - 10s 1ms/step - loss: 1.0752 - accuracy: 0.6294\n",
      "\n",
      "Accuracy = 0.63\n",
      "INFO:tensorflow:Assets written to: cnn_40_28_48k\\assets\n"
     ]
    },
    {
     "ename": "FileNotFoundError",
     "evalue": "[Errno 2] No such file or directory: '../STM32/C++/embedded_CNN_PoC_V-0-2/Core/Inc/params.h'",
     "output_type": "error",
     "traceback": [
      "\u001b[1;31m---------------------------------------------------------------------------\u001b[0m",
      "\u001b[1;31mFileNotFoundError\u001b[0m                         Traceback (most recent call last)",
      "\u001b[1;32mc:\\Users\\j.tschavoll\\OneDrive - FH Vorarlberg\\Partnerunternehmen FHV\\FH\\BA\\Code\\Jupyter\\CNN Training.ipynb Cell 8'\u001b[0m in \u001b[0;36m<module>\u001b[1;34m\u001b[0m\n\u001b[0;32m     <a href='vscode-notebook-cell:/c%3A/Users/j.tschavoll/OneDrive%20-%20FH%20Vorarlberg/Partnerunternehmen%20FHV/FH/BA/Code/Jupyter/CNN%20Training.ipynb#ch0000007?line=9'>10</a>\u001b[0m model\u001b[39m.\u001b[39msave(param_dict[\u001b[39m\"\u001b[39m\u001b[39mCNN_name\u001b[39m\u001b[39m\"\u001b[39m])\n\u001b[0;32m     <a href='vscode-notebook-cell:/c%3A/Users/j.tschavoll/OneDrive%20-%20FH%20Vorarlberg/Partnerunternehmen%20FHV/FH/BA/Code/Jupyter/CNN%20Training.ipynb#ch0000007?line=10'>11</a>\u001b[0m conf\u001b[39m.\u001b[39madd_NN_description(param_dict)\n\u001b[1;32m---> <a href='vscode-notebook-cell:/c%3A/Users/j.tschavoll/OneDrive%20-%20FH%20Vorarlberg/Partnerunternehmen%20FHV/FH/BA/Code/Jupyter/CNN%20Training.ipynb#ch0000007?line=11'>12</a>\u001b[0m conf\u001b[39m.\u001b[39;49mparams2c(\u001b[39m\"\u001b[39;49m\u001b[39m../STM32/C++/embedded_CNN_PoC_V-0-2/Core/Inc/params.h\u001b[39;49m\u001b[39m\"\u001b[39;49m, param_dict)\n\u001b[0;32m     <a href='vscode-notebook-cell:/c%3A/Users/j.tschavoll/OneDrive%20-%20FH%20Vorarlberg/Partnerunternehmen%20FHV/FH/BA/Code/Jupyter/CNN%20Training.ipynb#ch0000007?line=12'>13</a>\u001b[0m conf\u001b[39m.\u001b[39mcoeffs2c(\u001b[39m\"\u001b[39m\u001b[39m../STM32/C++/embedded_CNN_PoC_V-0-2/Core/Inc/coeffs.h\u001b[39m\u001b[39m\"\u001b[39m, param_dict)\n\u001b[0;32m     <a href='vscode-notebook-cell:/c%3A/Users/j.tschavoll/OneDrive%20-%20FH%20Vorarlberg/Partnerunternehmen%20FHV/FH/BA/Code/Jupyter/CNN%20Training.ipynb#ch0000007?line=13'>14</a>\u001b[0m conf\u001b[39m.\u001b[39mclass_map2c(\u001b[39m\"\u001b[39m\u001b[39m../STM32/C++/embedded_CNN_PoC_V-0-2/Core/Inc/class_map.h\u001b[39m\u001b[39m\"\u001b[39m, param_dict)\n",
      "File \u001b[1;32mC:\\users\\j.tschavoll\\appdata\\local\\programs\\python\\python39\\lib\\site-packages\\pipeline\\config.py:133\u001b[0m, in \u001b[0;36mparams2c\u001b[1;34m(fp, dict)\u001b[0m\n\u001b[0;32m    <a href='file:///c%3A/users/j.tschavoll/appdata/local/programs/python/python39/lib/site-packages/pipeline/config.py?line=118'>119</a>\u001b[0m \u001b[39mdef\u001b[39;00m \u001b[39mparams2c\u001b[39m(fp, \u001b[39mdict\u001b[39m):\n\u001b[0;32m    <a href='file:///c%3A/users/j.tschavoll/appdata/local/programs/python/python39/lib/site-packages/pipeline/config.py?line=119'>120</a>\u001b[0m     \u001b[39m\"\"\"\u001b[39;00m\n\u001b[0;32m    <a href='file:///c%3A/users/j.tschavoll/appdata/local/programs/python/python39/lib/site-packages/pipeline/config.py?line=120'>121</a>\u001b[0m \u001b[39m    Sync all params with the embedded systems toolchain\u001b[39;00m\n\u001b[0;32m    <a href='file:///c%3A/users/j.tschavoll/appdata/local/programs/python/python39/lib/site-packages/pipeline/config.py?line=121'>122</a>\u001b[0m \n\u001b[1;32m   (...)\u001b[0m\n\u001b[0;32m    <a href='file:///c%3A/users/j.tschavoll/appdata/local/programs/python/python39/lib/site-packages/pipeline/config.py?line=129'>130</a>\u001b[0m \u001b[39m    `None`\u001b[39;00m\n\u001b[0;32m    <a href='file:///c%3A/users/j.tschavoll/appdata/local/programs/python/python39/lib/site-packages/pipeline/config.py?line=130'>131</a>\u001b[0m \u001b[39m    \"\"\"\u001b[39;00m  \n\u001b[1;32m--> <a href='file:///c%3A/users/j.tschavoll/appdata/local/programs/python/python39/lib/site-packages/pipeline/config.py?line=132'>133</a>\u001b[0m     \u001b[39mwith\u001b[39;00m \u001b[39mopen\u001b[39;49m(fp, \u001b[39m'\u001b[39;49m\u001b[39mw\u001b[39;49m\u001b[39m'\u001b[39;49m) \u001b[39mas\u001b[39;00m f:\n\u001b[0;32m    <a href='file:///c%3A/users/j.tschavoll/appdata/local/programs/python/python39/lib/site-packages/pipeline/config.py?line=133'>134</a>\u001b[0m         f\u001b[39m.\u001b[39mwrite(\u001b[39mf\u001b[39m\u001b[39m'''\u001b[39m\n\u001b[0;32m    <a href='file:///c%3A/users/j.tschavoll/appdata/local/programs/python/python39/lib/site-packages/pipeline/config.py?line=134'>135</a>\u001b[0m \u001b[39m/* THIS IS AN AUTO-GENERATED FILE! DO NOT MODIFY MANUALLY!\u001b[39m\n\u001b[0;32m    <a href='file:///c%3A/users/j.tschavoll/appdata/local/programs/python/python39/lib/site-packages/pipeline/config.py?line=135'>136</a>\u001b[0m \u001b[39m * f_name:      params.h\u001b[39m\n\u001b[1;32m   (...)\u001b[0m\n\u001b[0;32m    <a href='file:///c%3A/users/j.tschavoll/appdata/local/programs/python/python39/lib/site-packages/pipeline/config.py?line=156'>157</a>\u001b[0m \u001b[39m#endif\u001b[39m\n\u001b[0;32m    <a href='file:///c%3A/users/j.tschavoll/appdata/local/programs/python/python39/lib/site-packages/pipeline/config.py?line=157'>158</a>\u001b[0m \u001b[39m                \u001b[39m\u001b[39m'''\u001b[39m)\n",
      "\u001b[1;31mFileNotFoundError\u001b[0m: [Errno 2] No such file or directory: '../STM32/C++/embedded_CNN_PoC_V-0-2/Core/Inc/params.h'"
     ]
    }
   ],
   "source": [
    "# determine the ROC AUC score \n",
    "y_prob = model.predict(X_test)\n",
    "y_true = np.argmax(y_prob, 1)\n",
    "roc = metrics.roc_auc_score(y_test, y_prob, multi_class='ovr')\n",
    "print(f\"ROC: {round(roc,3)}\")\n",
    "\n",
    "score, accuracy = model.evaluate(X_test, y_test, batch_size=4)\n",
    "print(\"\\nAccuracy = {:.2f}\".format(accuracy))\n",
    "\n",
    "model.save(param_dict[\"CNN_name\"])\n",
    "conf.add_NN_description(param_dict)\n",
    "conf.params2c(\"../STM32/C++/embedded_CNN_PoC_V-0-2/Core/Inc/params.h\", param_dict)\n",
    "conf.coeffs2c(\"../STM32/C++/embedded_CNN_PoC_V-0-2/Core/Inc/coeffs.h\", param_dict)\n",
    "conf.class_map2c(\"../STM32/C++/embedded_CNN_PoC_V-0-2/Core/Inc/class_map.h\", param_dict)"
   ]
  },
  {
   "cell_type": "code",
   "execution_count": null,
   "metadata": {},
   "outputs": [],
   "source": [
    "import tensorflow as tf\n",
    "\n",
    "converter = tf.lite.TFLiteConverter.from_keras_model(model)\n",
    "tflite_model = converter.convert()\n",
    "open(param_dict[\"CNN_name\"] + \"/\" + param_dict[\"CNN_name\"] + \"_lite.tflite\", \"wb\").write(tflite_model)"
   ]
  }
 ],
 "metadata": {
  "interpreter": {
   "hash": "0b33825c86f59eb53ffe33fb53489aa32e5ec5daed1e0a8651777c2cf4c7e2b3"
  },
  "kernelspec": {
   "display_name": "Python 3 (ipykernel)",
   "language": "python",
   "name": "python3"
  },
  "language_info": {
   "codemirror_mode": {
    "name": "ipython",
    "version": 3
   },
   "file_extension": ".py",
   "mimetype": "text/x-python",
   "name": "python",
   "nbconvert_exporter": "python",
   "pygments_lexer": "ipython3",
   "version": "3.9.6"
  }
 },
 "nbformat": 4,
 "nbformat_minor": 4
}
