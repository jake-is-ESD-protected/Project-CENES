{
 "cells": [
  {
   "cell_type": "markdown",
   "metadata": {},
   "source": [
    "# Training the CNN"
   ]
  },
  {
   "cell_type": "code",
   "execution_count": 22,
   "metadata": {},
   "outputs": [
    {
     "name": "stdout",
     "output_type": "stream",
     "text": [
      "(1132, 48, 21)\n"
     ]
    }
   ],
   "source": [
    "import numpy as np\n",
    "import json\n",
    "from sklearn.preprocessing import LabelEncoder, StandardScaler\n",
    "from sklearn.model_selection import train_test_split\n",
    "\n",
    "with open('param_dict.json') as f:\n",
    "    content = f.read()\n",
    "\n",
    "param_dict = json.loads(content)\n",
    "\n",
    "labels = np.loadtxt(\"Datasets/Feature_extraction/labels.txt\", dtype='str')\n",
    "df_2d = np.loadtxt(\"Datasets/Feature_extraction/th_oct_feature.txt\")\n",
    "df = df_2d.reshape(df_2d.shape[0], df_2d.shape[1] // param_dict['n_bands'], param_dict['n_bands'])"
   ]
  },
  {
   "cell_type": "code",
   "execution_count": 24,
   "metadata": {},
   "outputs": [
    {
     "data": {
      "image/png": "[encoded data removed]",
      "text/plain": [
       "<Figure size 1008x576 with 2 Axes>"
      ]
     },
     "metadata": {
      "needs_background": "light"
     },
     "output_type": "display_data"
    }
   ],
   "source": [
    "# sanity check:\n",
    "import octafilt3r.plot as o3p\n",
    "\n",
    "print(df.shape)\n",
    "o3p.oct_spectrogram(df[600], param_dict['fs'], param_dict['frame_size'], param_dict['fmax'], param_dict['fmin'], param_dict['oct_bw_ratio'], labels[600])"
   ]
  },
  {
   "cell_type": "code",
   "execution_count": 62,
   "metadata": {},
   "outputs": [
    {
     "name": "stdout",
     "output_type": "stream",
     "text": [
      "Encoded labels:\n",
      "[0 0 0 ... 6 6 6]\n",
      "Shape of data frame: (1132, 48, 21, 1)\n"
     ]
    }
   ],
   "source": [
    "def data_scaler(df):\n",
    "    X = np.zeros((len(df), len(df[0]), len(df[0][0])))\n",
    "    scaler = StandardScaler()\n",
    "    for win in range(len(df)):\n",
    "        X[win] = scaler.fit_transform(df[win])\n",
    "\n",
    "    X = X[..., np.newaxis]\n",
    "\n",
    "    return X, scaler\n",
    "\n",
    "\n",
    "def label_encode(labels):\n",
    "    encoder = LabelEncoder()\n",
    "    y = encoder.fit_transform(labels)\n",
    "    \n",
    "    return y, encoder\n",
    "\n",
    "\n",
    "y, encoder = label_encode(labels)\n",
    "X, scaler = data_scaler(df)\n",
    "print(f'Encoded labels:\\n{y}')\n",
    "print(f'Shape of data frame: {X.shape}')\n",
    "# Dividing data into training and Testing set\n",
    "X_train, X_test, y_train, y_test, = train_test_split(X, y, test_size=0.2)\n"
   ]
  },
  {
   "cell_type": "code",
   "execution_count": 40,
   "metadata": {},
   "outputs": [
    {
     "name": "stdout",
     "output_type": "stream",
     "text": [
      "Input shape: (48, 21, 1)\n",
      "Output shape: 7\n"
     ]
    }
   ],
   "source": [
    "# https://gist.github.com/jaron/5b17c9f37f351780744aefc74f93d3ae\n",
    "from keras.models import Sequential\n",
    "from keras.layers import Dense, Dropout, Activation, Flatten\n",
    "from keras.layers import MaxPooling2D, Conv2D\n",
    "from tensorflow.keras.optimizers import SGD\n",
    "from keras.regularizers import l2\n",
    "from sklearn import metrics \n",
    "\n",
    "kernel_size = (5, 5)\n",
    "n_classes = max(y_test) + 1 # highest index + 1 is the amount of classes\n",
    "print(f'Input shape: {X[0].shape}')\n",
    "print(f'Output shape: {n_classes}')\n",
    "\n",
    "layer_1 = [\n",
    "    Conv2D(24, kernel_size, padding='same', input_shape=X[0].shape),\n",
    "    MaxPooling2D(pool_size=(2,2)),\n",
    "    Activation('relu')\n",
    "]\n",
    "\n",
    "layer_2 = [\n",
    "    Conv2D(48, kernel_size, padding='same'),\n",
    "    MaxPooling2D(pool_size=(2,2)),\n",
    "    Activation('relu')\n",
    "]\n",
    "\n",
    "layer_3 = [\n",
    "    Conv2D(48, kernel_size, padding='valid'),\n",
    "    Activation('relu'),\n",
    "]\n",
    "\n",
    "layer_4 = [\n",
    "    Flatten(),\n",
    "    Dropout(0.5),\n",
    "    Dense(64, kernel_regularizer=l2(0.001)),\n",
    "    Activation('relu')\n",
    "]\n",
    "\n",
    "layer_5 = [\n",
    "    Dropout(0.5),\n",
    "    Dense(n_classes, kernel_regularizer=l2(0.001)),\n",
    "    Activation('softmax')\n",
    "]\n",
    "\n",
    "layers = layer_1 + layer_2 + layer_3 + layer_4 + layer_5\n",
    "model = Sequential(layers)\n",
    "\n",
    "sgd = SGD(learning_rate=0.001, momentum=0.0, decay=0.0, nesterov=False)\n",
    "model.compile(loss='sparse_categorical_crossentropy', metrics=['accuracy'], optimizer=sgd)\n",
    "model.fit(X_train, y_train, batch_size=4, epochs=150)"
   ]
  },
  {
   "cell_type": "code",
   "execution_count": 63,
   "metadata": {},
   "outputs": [
    {
     "name": "stdout",
     "output_type": "stream",
     "text": [
      "ROC: 0.994\n",
      "57/57 [==============================] - 0s 3ms/step - loss: 0.4329 - accuracy: 0.9031\n",
      "\n",
      "Accuracy = 0.90\n"
     ]
    }
   ],
   "source": [
    "# determine the ROC AUC score \n",
    "y_prob = model.predict(X_test)\n",
    "y_true = np.argmax(y_prob, 1)\n",
    "roc = metrics.roc_auc_score(y_test, y_prob, multi_class='ovr')\n",
    "print(f\"ROC: {round(roc,3)}\")\n",
    "\n",
    "score, accuracy = model.evaluate(X_test, y_test, batch_size=4)\n",
    "print(\"\\nAccuracy = {:.2f}\".format(accuracy))"
   ]
  },
  {
   "cell_type": "code",
   "execution_count": 1,
   "metadata": {},
   "outputs": [
    {
     "ename": "NameError",
     "evalue": "name 'param_dict' is not defined",
     "output_type": "error",
     "traceback": [
      "\u001b[1;31m---------------------------------------------------------------------------\u001b[0m",
      "\u001b[1;31mNameError\u001b[0m                                 Traceback (most recent call last)",
      "\u001b[1;32mc:\\Users\\J\\OneDrive - FH Vorarlberg\\Partnerunternehmen FHV\\FH\\BA\\Code\\Jupyter\\CNN Training.ipynb Cell 7'\u001b[0m in \u001b[0;36m<module>\u001b[1;34m\u001b[0m\n\u001b[0;32m      <a href='vscode-notebook-cell:/c%3A/Users/J/OneDrive%20-%20FH%20Vorarlberg/Partnerunternehmen%20FHV/FH/BA/Code/Jupyter/CNN%20Training.ipynb#ch0000006?line=4'>5</a>\u001b[0m base_path \u001b[39m=\u001b[39m \u001b[39m\"\u001b[39m\u001b[39mDatasets/UrbanSound8k_augmented/street_music/\u001b[39m\u001b[39m\"\u001b[39m\n\u001b[0;32m      <a href='vscode-notebook-cell:/c%3A/Users/J/OneDrive%20-%20FH%20Vorarlberg/Partnerunternehmen%20FHV/FH/BA/Code/Jupyter/CNN%20Training.ipynb#ch0000006?line=5'>6</a>\u001b[0m fname \u001b[39m=\u001b[39m \u001b[39m\"\u001b[39m\u001b[39m34866-9-0-5.wav\u001b[39m\u001b[39m\"\u001b[39m\n\u001b[1;32m----> <a href='vscode-notebook-cell:/c%3A/Users/J/OneDrive%20-%20FH%20Vorarlberg/Partnerunternehmen%20FHV/FH/BA/Code/Jupyter/CNN%20Training.ipynb#ch0000006?line=7'>8</a>\u001b[0m wav, fs \u001b[39m=\u001b[39m lr\u001b[39m.\u001b[39mload(base_path \u001b[39m+\u001b[39m fname, sr\u001b[39m=\u001b[39mparam_dict[\u001b[39m'\u001b[39m\u001b[39mfs\u001b[39m\u001b[39m'\u001b[39m], duration\u001b[39m=\u001b[39m\u001b[39m1\u001b[39m)\n\u001b[0;32m     <a href='vscode-notebook-cell:/c%3A/Users/J/OneDrive%20-%20FH%20Vorarlberg/Partnerunternehmen%20FHV/FH/BA/Code/Jupyter/CNN%20Training.ipynb#ch0000006?line=9'>10</a>\u001b[0m feats, fcs \u001b[39m=\u001b[39m o3f\u001b[39m.\u001b[39mrolling_oct_bank(\n\u001b[0;32m     <a href='vscode-notebook-cell:/c%3A/Users/J/OneDrive%20-%20FH%20Vorarlberg/Partnerunternehmen%20FHV/FH/BA/Code/Jupyter/CNN%20Training.ipynb#ch0000006?line=10'>11</a>\u001b[0m     wav,\n\u001b[0;32m     <a href='vscode-notebook-cell:/c%3A/Users/J/OneDrive%20-%20FH%20Vorarlberg/Partnerunternehmen%20FHV/FH/BA/Code/Jupyter/CNN%20Training.ipynb#ch0000006?line=11'>12</a>\u001b[0m     fs,\n\u001b[1;32m   (...)\u001b[0m\n\u001b[0;32m     <a href='vscode-notebook-cell:/c%3A/Users/J/OneDrive%20-%20FH%20Vorarlberg/Partnerunternehmen%20FHV/FH/BA/Code/Jupyter/CNN%20Training.ipynb#ch0000006?line=18'>19</a>\u001b[0m     param_dict[\u001b[39m'\u001b[39m\u001b[39mdec_ord\u001b[39m\u001b[39m'\u001b[39m]\n\u001b[0;32m     <a href='vscode-notebook-cell:/c%3A/Users/J/OneDrive%20-%20FH%20Vorarlberg/Partnerunternehmen%20FHV/FH/BA/Code/Jupyter/CNN%20Training.ipynb#ch0000006?line=19'>20</a>\u001b[0m )\n\u001b[0;32m     <a href='vscode-notebook-cell:/c%3A/Users/J/OneDrive%20-%20FH%20Vorarlberg/Partnerunternehmen%20FHV/FH/BA/Code/Jupyter/CNN%20Training.ipynb#ch0000006?line=21'>22</a>\u001b[0m class_map \u001b[39m=\u001b[39m [\n\u001b[0;32m     <a href='vscode-notebook-cell:/c%3A/Users/J/OneDrive%20-%20FH%20Vorarlberg/Partnerunternehmen%20FHV/FH/BA/Code/Jupyter/CNN%20Training.ipynb#ch0000006?line=22'>23</a>\u001b[0m     \u001b[39m'\u001b[39m\u001b[39mcar_horn\u001b[39m\u001b[39m'\u001b[39m,\n\u001b[0;32m     <a href='vscode-notebook-cell:/c%3A/Users/J/OneDrive%20-%20FH%20Vorarlberg/Partnerunternehmen%20FHV/FH/BA/Code/Jupyter/CNN%20Training.ipynb#ch0000006?line=23'>24</a>\u001b[0m     \u001b[39m'\u001b[39m\u001b[39mchildren_playing\u001b[39m\u001b[39m'\u001b[39m,\n\u001b[1;32m   (...)\u001b[0m\n\u001b[0;32m     <a href='vscode-notebook-cell:/c%3A/Users/J/OneDrive%20-%20FH%20Vorarlberg/Partnerunternehmen%20FHV/FH/BA/Code/Jupyter/CNN%20Training.ipynb#ch0000006?line=28'>29</a>\u001b[0m     \u001b[39m'\u001b[39m\u001b[39mstreet_music\u001b[39m\u001b[39m'\u001b[39m\n\u001b[0;32m     <a href='vscode-notebook-cell:/c%3A/Users/J/OneDrive%20-%20FH%20Vorarlberg/Partnerunternehmen%20FHV/FH/BA/Code/Jupyter/CNN%20Training.ipynb#ch0000006?line=29'>30</a>\u001b[0m ]\n",
      "\u001b[1;31mNameError\u001b[0m: name 'param_dict' is not defined"
     ]
    }
   ],
   "source": [
    "import librosa as lr\n",
    "import octafilt3r.filter as o3f\n",
    "import octafilt3r.plot as o3p\n",
    "\n",
    "base_path = \"Datasets/UrbanSound8k_augmented/street_music/\"\n",
    "fname = \"34866-9-0-5.wav\"\n",
    "\n",
    "wav, fs = lr.load(base_path + fname, sr=param_dict['fs'], duration=1)\n",
    "\n",
    "feats, fcs = o3f.rolling_oct_bank(\n",
    "    wav,\n",
    "    fs,\n",
    "    param_dict['oct_bw_ratio'],\n",
    "    param_dict['order'],\n",
    "    param_dict['fmax'],\n",
    "    param_dict['fmin'],\n",
    "    param_dict['frame_size'],\n",
    "    param_dict['dec_stages'],\n",
    "    param_dict['dec_ord']\n",
    ")\n",
    "\n",
    "class_map = [\n",
    "    'car_horn',\n",
    "    'children_playing',\n",
    "    'dog_bark',\n",
    "    'drilling',\n",
    "    'engine_idling',\n",
    "    'jackhammer',\n",
    "    'street_music'\n",
    "]\n",
    "\n",
    "o3p.oct_spectrogram(feats, fs, param_dict['frame_size'], param_dict['fmax'], param_dict['fmin'], param_dict['oct_bw_ratio'], fname)\n",
    "\n",
    "feats = feats[np.newaxis, ...]\n",
    "X, scaler = data_scaler(feats)\n",
    "\n",
    "p = model.predict(X)\n",
    "print(f'Predicted class: \"{class_map[np.argmax(p)]}\" with {int(100 * (p[0][np.argmax(p, 1)][0]))}% accuracy.')\n",
    "\n"
   ]
  },
  {
   "cell_type": "code",
   "execution_count": null,
   "metadata": {},
   "outputs": [],
   "source": []
  }
 ],
 "metadata": {
  "interpreter": {
   "hash": "0b33825c86f59eb53ffe33fb53489aa32e5ec5daed1e0a8651777c2cf4c7e2b3"
  },
  "kernelspec": {
   "display_name": "Python 3.9.6 64-bit",
   "language": "python",
   "name": "python3"
  },
  "language_info": {
   "codemirror_mode": {
    "name": "ipython",
    "version": 3
   },
   "file_extension": ".py",
   "mimetype": "text/x-python",
   "name": "python",
   "nbconvert_exporter": "python",
   "pygments_lexer": "ipython3",
   "version": "3.10.1"
  },
  "orig_nbformat": 4
 },
 "nbformat": 4,
 "nbformat_minor": 2
}
