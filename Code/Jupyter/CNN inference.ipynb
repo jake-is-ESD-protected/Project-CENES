{
 "cells": [
  {
   "cell_type": "markdown",
   "metadata": {},
   "source": [
    "# Running inference"
   ]
  },
  {
   "cell_type": "code",
   "execution_count": 2,
   "metadata": {},
   "outputs": [],
   "source": [
    "import librosa as lr\n",
    "import octafilt3r.filter as o3f\n",
    "import octafilt3r.plot as o3p\n",
    "import os\n",
    "from tensorflow.keras.models import load_model\n",
    "import numpy as np\n",
    "import pipeline.config as conf\n",
    "import pipeline.scale as scale"
   ]
  },
  {
   "cell_type": "code",
   "execution_count": 13,
   "metadata": {},
   "outputs": [
    {
     "name": "stdout",
     "output_type": "stream",
     "text": [
      "Predicted class: \"street_music\" with 100 score.\n",
      "Predicted class: \"street_music\" with 99 score.\n",
      "Predicted class: \"street_music\" with 99 score.\n",
      "Predicted class: \"street_music\" with 99 score.\n",
      "Predicted class: \"street_music\" with 100 score.\n",
      "Predicted class: \"street_music\" with 99 score.\n",
      "Predicted class: \"street_music\" with 98 score.\n",
      "Predicted class: \"street_music\" with 99 score.\n",
      "Predicted class: \"street_music\" with 94 score.\n",
      "----- done. -----\n",
      "9 true predictions\n",
      "0 false predictions\n",
      "test accuracy: 90%\n",
      "error ratio: 0%\n"
     ]
    }
   ],
   "source": [
    "param_dict = conf.open_params()\n",
    "\n",
    "base_path = \"Datasets/UrbanSound8k_augmented/street_music/\"\n",
    "stop_at = 10\n",
    "i = 1\n",
    "true = 0\n",
    "false = 0\n",
    "\n",
    "N4CED = load_model('N4CED_V-0-1')\n",
    "\n",
    "for file in os.listdir(base_path):\n",
    "\n",
    "    if(i == stop_at):\n",
    "        break\n",
    "\n",
    "    wav, fs = lr.load(base_path + file, sr=param_dict['fs'], duration=param_dict[\"max_dur\"])\n",
    "\n",
    "    if len(wav) < fs:\n",
    "        continue\n",
    "\n",
    "\n",
    "    feats, fcs = o3f.rolling_oct_bank(\n",
    "        wav,\n",
    "        fs,\n",
    "        param_dict['oct_bw_ratio'],\n",
    "        param_dict['order'],\n",
    "        param_dict['fmax'],\n",
    "        param_dict['fmin'],\n",
    "        param_dict['frame_size'],\n",
    "        param_dict['dec_stages'],\n",
    "        param_dict['dec_ord']\n",
    "    )\n",
    "\n",
    "    df = scale.feats2frames(feats, param_dict['frame_size'], fs)\n",
    "\n",
    "    X, scaler = scale.data_scaler(df)\n",
    "    p = N4CED.predict(X)\n",
    "    predicted = param_dict[\"class_map\"][np.argmax(np.mean(p, axis=0))]\n",
    "    print(f'Predicted class: \"{predicted}\" with {int(100 * (p[0][np.argmax(p, 1)][0]))} score.')\n",
    "    if predicted == 'street_music':\n",
    "        true += 1\n",
    "    else:\n",
    "        false += 1\n",
    "    i += 1\n",
    "\n",
    "print('----- done. -----')\n",
    "print(f'{true} true predictions\\n{false} false predictions')\n",
    "print(f'test accuracy: {int((true/i)*100)}%\\nerror ratio: {int((false/i)*100)}%')"
   ]
  }
 ],
 "metadata": {
  "interpreter": {
   "hash": "0687a98b0160781757b3b9fa1a867d13e9830e123839aa8f211ed2ece874c462"
  },
  "kernelspec": {
   "display_name": "Python 3.10.1 64-bit",
   "language": "python",
   "name": "python3"
  },
  "language_info": {
   "codemirror_mode": {
    "name": "ipython",
    "version": 3
   },
   "file_extension": ".py",
   "mimetype": "text/x-python",
   "name": "python",
   "nbconvert_exporter": "python",
   "pygments_lexer": "ipython3",
   "version": "3.9.6"
  },
  "orig_nbformat": 4
 },
 "nbformat": 4,
 "nbformat_minor": 2
}
