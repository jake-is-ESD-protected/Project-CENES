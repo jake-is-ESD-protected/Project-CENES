{
 "cells": [
  {
   "cell_type": "markdown",
   "metadata": {},
   "source": [
    "# Running inference"
   ]
  },
  {
   "cell_type": "code",
   "execution_count": 2,
   "metadata": {},
   "outputs": [],
   "source": [
    "import librosa as lr\n",
    "import octafilt3r.filter as o3f\n",
    "import os\n",
    "from tensorflow.keras.models import load_model\n",
    "import numpy as np\n",
    "import pipeline.config as conf\n",
    "import pipeline.scale as scale"
   ]
  },
  {
   "cell_type": "code",
   "execution_count": 6,
   "metadata": {},
   "outputs": [
    {
     "name": "stdout",
     "output_type": "stream",
     "text": [
      "Predicted class: \"street_music\" with 93 score.\n",
      "Predicted class: \"street_music\" with 73 score.\n",
      "Predicted class: \"street_music\" with 90 score.\n",
      "Predicted class: \"street_music\" with 93 score.\n",
      "Predicted class: \"street_music\" with 92 score.\n",
      "Predicted class: \"street_music\" with 77 score.\n",
      "Predicted class: \"dog_bark\" with 59 score.\n",
      "Predicted class: \"street_music\" with 38 score.\n",
      "Predicted class: \"children_playing\" with 55 score.\n",
      "Predicted class: \"children_playing\" with 53 score.\n",
      "Predicted class: \"street_music\" with 41 score.\n",
      "Predicted class: \"street_music\" with 43 score.\n",
      "Predicted class: \"street_music\" with 95 score.\n",
      "Predicted class: \"street_music\" with 74 score.\n",
      "Predicted class: \"street_music\" with 49 score.\n",
      "Predicted class: \"street_music\" with 29 score.\n",
      "Predicted class: \"drilling\" with 51 score.\n",
      "Predicted class: \"street_music\" with 67 score.\n",
      "Predicted class: \"street_music\" with 97 score.\n",
      "Predicted class: \"street_music\" with 90 score.\n",
      "Predicted class: \"street_music\" with 64 score.\n",
      "Predicted class: \"street_music\" with 49 score.\n",
      "Predicted class: \"street_music\" with 86 score.\n",
      "Predicted class: \"street_music\" with 88 score.\n",
      "Predicted class: \"street_music\" with 91 score.\n",
      "Predicted class: \"street_music\" with 89 score.\n",
      "Predicted class: \"street_music\" with 89 score.\n",
      "Predicted class: \"street_music\" with 91 score.\n",
      "Predicted class: \"street_music\" with 96 score.\n",
      "Predicted class: \"street_music\" with 65 score.\n",
      "----- done. -----\n",
      "26 true predictions\n",
      "4 false predictions\n",
      "test accuracy: 86%\n",
      "error ratio: 13%\n"
     ]
    }
   ],
   "source": [
    "param_dict = conf.open_params()\n",
    "\n",
    "base_path = \"Datasets/UrbanSound8k_augmented/street_music/\"\n",
    "stop_at = 30\n",
    "i = 0\n",
    "true = 0\n",
    "false = 0\n",
    "\n",
    "N4CED = load_model(param_dict[\"CNN_name\"])\n",
    "\n",
    "for file in os.listdir(base_path):\n",
    "\n",
    "    if(i == stop_at):\n",
    "        break\n",
    "\n",
    "    \"\"\"\n",
    "    LOAD DATA\n",
    "    \"\"\"\n",
    "    wav, fs = lr.load(base_path + file, sr=param_dict['fs'], duration=param_dict[\"max_dur\"])\n",
    "\n",
    "    if len(wav) < fs:\n",
    "        continue\n",
    "\n",
    "\n",
    "    \"\"\"\n",
    "    EXTRACT FEATURES\n",
    "    \"\"\"\n",
    "    feats, fcs = o3f.rolling_oct_bank(\n",
    "        wav,\n",
    "        fs,\n",
    "        param_dict['oct_bw_ratio'],\n",
    "        param_dict['order'],\n",
    "        param_dict['fmax'],\n",
    "        param_dict['fmin'],\n",
    "        param_dict['frame_size'],\n",
    "        param_dict['dec_stages'],\n",
    "        param_dict['dec_ord']\n",
    "    )\n",
    "\n",
    "\n",
    "    \"\"\"\n",
    "    RESHAPE FEATURES\n",
    "    \"\"\"\n",
    "    df = scale.feats2frames(feats, param_dict['frame_size'], fs)\n",
    "\n",
    "\n",
    "    \"\"\"\n",
    "    SCALE FEATURES\n",
    "    \"\"\"\n",
    "    X, scaler = scale.data_scaler(df)\n",
    "\n",
    "\n",
    "    \"\"\"\n",
    "    RUN MODEL\n",
    "    \"\"\"\n",
    "    p = N4CED.predict(X)\n",
    "\n",
    "\n",
    "    \"\"\"\n",
    "    PROCESS RESULTS\n",
    "    \"\"\"\n",
    "    predicted = param_dict[\"class_map\"][np.argmax(np.mean(p, axis=0))]\n",
    "    print(f'Predicted class: \"{predicted}\" with {int(100 * (p[0][np.argmax(p, 1)][0]))} score.')\n",
    "    if predicted == 'street_music':\n",
    "        true += 1\n",
    "    else:\n",
    "        false += 1\n",
    "    i += 1\n",
    "\n",
    "print('----- done. -----')\n",
    "print(f'{true} true predictions\\n{false} false predictions')\n",
    "print(f'test accuracy: {int((true/i)*100)}%\\nerror ratio: {int((false/i)*100)}%')"
   ]
  },
  {
   "cell_type": "code",
   "execution_count": 7,
   "metadata": {},
   "outputs": [
    {
     "name": "stdout",
     "output_type": "stream",
     "text": [
      "INFO:tensorflow:Assets written to: C:\\Users\\JDA1E~1.TSC\\AppData\\Local\\Temp\\tmp5his_7ln\\assets\n"
     ]
    },
    {
     "name": "stderr",
     "output_type": "stream",
     "text": [
      "WARNING:absl:Buffer deduplication procedure will be skipped when flatbuffer library is not properly loaded\n"
     ]
    },
    {
     "data": {
      "text/plain": [
       "745868"
      ]
     },
     "execution_count": 7,
     "metadata": {},
     "output_type": "execute_result"
    }
   ],
   "source": [
    "import tensorflow as tf\n",
    "\n",
    "converter = tf.lite.TFLiteConverter.from_keras_model(N4CED)\n",
    "tflite_model = converter.convert()\n",
    "open(param_dict[\"CNN_name\"] + \"/\" + param_dict[\"CNN_name\"] + \"_lite.tflite\", \"wb\").write(tflite_model)"
   ]
  }
 ],
 "metadata": {
  "interpreter": {
   "hash": "0687a98b0160781757b3b9fa1a867d13e9830e123839aa8f211ed2ece874c462"
  },
  "kernelspec": {
   "display_name": "Python 3.10.1 64-bit",
   "language": "python",
   "name": "python3"
  },
  "language_info": {
   "codemirror_mode": {
    "name": "ipython",
    "version": 3
   },
   "file_extension": ".py",
   "mimetype": "text/x-python",
   "name": "python",
   "nbconvert_exporter": "python",
   "pygments_lexer": "ipython3",
   "version": "3.10.1"
  },
  "orig_nbformat": 4
 },
 "nbformat": 4,
 "nbformat_minor": 2
}
