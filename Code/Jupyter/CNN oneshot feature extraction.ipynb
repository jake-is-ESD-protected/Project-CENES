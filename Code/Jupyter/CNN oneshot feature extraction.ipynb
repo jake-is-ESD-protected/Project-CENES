{
 "cells": [
  {
   "cell_type": "markdown",
   "metadata": {},
   "source": [
    "# Extract a tensor of features for debugging on the embedded device"
   ]
  },
  {
   "cell_type": "code",
   "execution_count": 1,
   "metadata": {},
   "outputs": [],
   "source": [
    "import librosa as lr\n",
    "import octafilt3r.filter as o3f\n",
    "import octafilt3r.plot as o3p\n",
    "import octafilt3r.weightings as o3w\n",
    "import os\n",
    "from tensorflow.keras.models import load_model\n",
    "import numpy as np\n",
    "import pipeline.config as conf\n",
    "import pipeline.scale as scale"
   ]
  },
  {
   "cell_type": "code",
   "execution_count": 19,
   "metadata": {},
   "outputs": [],
   "source": [
    "def df2c(fp, df, class_name):\n",
    "\n",
    "    df = df[0] # drop first dimension\n",
    "\n",
    "    code = f\"// constant features auto-generated for ai-verification. Class: [{class_name}]\\n\\n\"\n",
    "\n",
    "    for frame in df:\n",
    "        code += \"{\\n\"\n",
    "        for db in frame:\n",
    "            code += f\"{db},\\n\"\n",
    "        code += \"},\\n\"   \n",
    "    \n",
    "    with open(fp, 'w') as f:\n",
    "        f.write(code)\n",
    "\n"
   ]
  },
  {
   "cell_type": "code",
   "execution_count": 20,
   "metadata": {},
   "outputs": [
    {
     "name": "stdout",
     "output_type": "stream",
     "text": [
      "(1, 40, 28, 1)\n",
      "0.0057714139111340\n",
      "0.9793586134910583\n",
      "0.0100972140207887\n",
      "0.0041780541650951\n",
      "0.0003924568591174\n",
      "0.0002022797416430\n",
      "Predicted class: \"car_horn\" with 97 score.\n",
      "----- done. -----\n",
      "1 true predictions\n",
      "0 false predictions\n",
      "test accuracy: 100%\n",
      "error ratio: 0%\n"
     ]
    },
    {
     "data": {
      "image/png": "[encoded data removed]",
      "text/plain": [
       "<Figure size 1008x576 with 2 Axes>"
      ]
     },
     "metadata": {
      "needs_background": "light"
     },
     "output_type": "display_data"
    }
   ],
   "source": [
    "param_dict = conf.open_params()\n",
    "\n",
    "class_of_interest = \"car_horn\"\n",
    "base_path = \"Datasets/ESC50_augmented/\" + class_of_interest + \"/\"\n",
    "stop_at = 1\n",
    "i = 0\n",
    "true = 0\n",
    "false = 0\n",
    "\n",
    "N4CED = load_model(param_dict[\"CNN_name\"])\n",
    "\n",
    "for file in os.listdir(base_path):\n",
    "\n",
    "    if(i == stop_at):\n",
    "        break\n",
    "\n",
    "    \"\"\"\n",
    "    LOAD DATA\n",
    "    \"\"\"\n",
    "    wav, fs = lr.load(base_path + file, sr=param_dict['fs'], duration=1)\n",
    "    wav = o3w.A_weight(wav, fs)\n",
    "\n",
    "    if len(wav) < fs:\n",
    "        continue\n",
    "\n",
    "\n",
    "    \"\"\"\n",
    "    EXTRACT FEATURES\n",
    "    \"\"\"\n",
    "    feats, fcs, leqs = o3f.rolling_oct_bank(\n",
    "        wav,\n",
    "        fs,\n",
    "        param_dict['oct_bw_ratio'],\n",
    "        param_dict['order'],\n",
    "        param_dict['fmax'],\n",
    "        param_dict['fmin'],\n",
    "        param_dict['frame_size'],\n",
    "        param_dict['dec_stages'],\n",
    "        param_dict['dec_ord']\n",
    "    )\n",
    "\n",
    "\n",
    "    \"\"\"\n",
    "    RESHAPE FEATURES\n",
    "    \"\"\"\n",
    "    feats = feats[:, ::-1]\n",
    "    df = scale.feats2frames(feats, param_dict['frame_size'], fs)\n",
    "    \n",
    "\n",
    "    \"\"\"\n",
    "    SCALE FEATURES\n",
    "    \"\"\"\n",
    "    df = scale.normalize_dbfs(df, leqs, param_dict[\"threshold\"])\n",
    "    df2c(\"../STM32/Nu_L5_embedded_CNN_PoC_V-0-1/Core/Inc/SW/ai_verify.txt\", df, class_of_interest)\n",
    "    df = df[..., np.newaxis]\n",
    "    print(df.shape)\n",
    "    o3p.oct_spectrogram(df[0, :, ::-1, 0], \n",
    "                        fs, \n",
    "                        param_dict[\"frame_size\"],\n",
    "                        param_dict[\"fmax\"],\n",
    "                        param_dict[\"fmin\"],\n",
    "                        name=file)\n",
    "\n",
    "\n",
    "    \"\"\"\n",
    "    RUN MODEL\n",
    "    \"\"\"\n",
    "    p = N4CED.predict(df)\n",
    "\n",
    "\n",
    "    \"\"\"\n",
    "    PROCESS RESULTS\n",
    "    \"\"\"\n",
    "    for e in p[0]:\n",
    "        print(\"{:.16f}\".format(e))\n",
    "    predicted = param_dict[\"class_map\"][np.argmax(np.mean(p, axis=0))]\n",
    "    print(f'Predicted class: \"{predicted}\" with {int(100 * (p[0][np.argmax(p, 1)][0]))} score.')\n",
    "    if predicted == class_of_interest:\n",
    "        true += 1\n",
    "    else:\n",
    "        false += 1\n",
    "    i += 1\n",
    "\n",
    "print('----- done. -----')\n",
    "print(f'{true} true predictions\\n{false} false predictions')\n",
    "print(f'test accuracy: {int((true/i)*100)}%\\nerror ratio: {int((false/i)*100)}%')"
   ]
  }
 ],
 "metadata": {
  "interpreter": {
   "hash": "b31d71e4aa4037fed73b4783f033a01dc4358c0a13d4b99ab1e5c40483db12d5"
  },
  "kernelspec": {
   "display_name": "Python 3.9.6 64-bit",
   "language": "python",
   "name": "python3"
  },
  "language_info": {
   "codemirror_mode": {
    "name": "ipython",
    "version": 3
   },
   "file_extension": ".py",
   "mimetype": "text/x-python",
   "name": "python",
   "nbconvert_exporter": "python",
   "pygments_lexer": "ipython3",
   "version": "3.9.6"
  },
  "orig_nbformat": 4
 },
 "nbformat": 4,
 "nbformat_minor": 2
}
