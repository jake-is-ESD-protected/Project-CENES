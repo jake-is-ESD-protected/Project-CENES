{
 "cells": [
  {
   "cell_type": "markdown",
   "metadata": {},
   "source": [
    "# Extract a tensor of features for debugging on the embedded device"
   ]
  },
  {
   "cell_type": "code",
   "execution_count": 1,
   "metadata": {},
   "outputs": [],
   "source": [
    "import librosa as lr\n",
    "import octafilt3r.filter as o3f\n",
    "import os\n",
    "from tensorflow.keras.models import load_model\n",
    "import numpy as np\n",
    "import pipeline.config as conf\n",
    "import pipeline.scale as scale"
   ]
  },
  {
   "cell_type": "code",
   "execution_count": 2,
   "metadata": {},
   "outputs": [],
   "source": [
    "def df2c(fp, df):\n",
    "\n",
    "    df = df[0] # drop first dimension\n",
    "\n",
    "    code = \"// constant features auto-generated for ai-verification\\n\\n\"\n",
    "\n",
    "    for frame in df:\n",
    "        code += \"{\\n\"\n",
    "        for db in frame:\n",
    "            code += f\"{db},\\n\"\n",
    "        code += \"},\\n\"   \n",
    "    \n",
    "    with open(fp, 'w') as f:\n",
    "        f.write(code)\n",
    "\n"
   ]
  },
  {
   "cell_type": "code",
   "execution_count": 5,
   "metadata": {},
   "outputs": [
    {
     "ename": "ValueError",
     "evalue": "in user code:\n\n    File \"C:\\users\\j.tschavoll\\appdata\\local\\programs\\python\\python39\\lib\\site-packages\\keras\\engine\\training.py\", line 1621, in predict_function  *\n        return step_function(self, iterator)\n    File \"C:\\users\\j.tschavoll\\appdata\\local\\programs\\python\\python39\\lib\\site-packages\\keras\\engine\\training.py\", line 1611, in step_function  **\n        outputs = model.distribute_strategy.run(run_step, args=(data,))\n    File \"C:\\users\\j.tschavoll\\appdata\\local\\programs\\python\\python39\\lib\\site-packages\\keras\\engine\\training.py\", line 1604, in run_step  **\n        outputs = model.predict_step(data)\n    File \"C:\\users\\j.tschavoll\\appdata\\local\\programs\\python\\python39\\lib\\site-packages\\keras\\engine\\training.py\", line 1572, in predict_step\n        return self(x, training=False)\n    File \"C:\\users\\j.tschavoll\\appdata\\local\\programs\\python\\python39\\lib\\site-packages\\keras\\utils\\traceback_utils.py\", line 67, in error_handler\n        raise e.with_traceback(filtered_tb) from None\n    File \"C:\\users\\j.tschavoll\\appdata\\local\\programs\\python\\python39\\lib\\site-packages\\keras\\engine\\input_spec.py\", line 263, in assert_input_compatibility\n        raise ValueError(f'Input {input_index} of layer \"{layer_name}\" is '\n\n    ValueError: Input 0 of layer \"sequential\" is incompatible with the layer: expected shape=(None, 48, 28, 1), found shape=(None, 40, 28, 1)\n",
     "output_type": "error",
     "traceback": [
      "\u001b[1;31m---------------------------------------------------------------------------\u001b[0m",
      "\u001b[1;31mValueError\u001b[0m                                Traceback (most recent call last)",
      "\u001b[1;32mc:\\Users\\j.tschavoll\\OneDrive - FH Vorarlberg\\Partnerunternehmen FHV\\FH\\BA\\Code\\Jupyter\\CNN oneshot feature extraction.ipynb Cell 4'\u001b[0m in \u001b[0;36m<module>\u001b[1;34m\u001b[0m\n\u001b[0;32m     <a href='vscode-notebook-cell:/c%3A/Users/j.tschavoll/OneDrive%20-%20FH%20Vorarlberg/Partnerunternehmen%20FHV/FH/BA/Code/Jupyter/CNN%20oneshot%20feature%20extraction.ipynb#ch0000003?line=53'>54</a>\u001b[0m X, scaler \u001b[39m=\u001b[39m scale\u001b[39m.\u001b[39mdata_scaler(df)\n\u001b[0;32m     <a href='vscode-notebook-cell:/c%3A/Users/j.tschavoll/OneDrive%20-%20FH%20Vorarlberg/Partnerunternehmen%20FHV/FH/BA/Code/Jupyter/CNN%20oneshot%20feature%20extraction.ipynb#ch0000003?line=56'>57</a>\u001b[0m \u001b[39m\"\"\"\u001b[39;00m\n\u001b[0;32m     <a href='vscode-notebook-cell:/c%3A/Users/j.tschavoll/OneDrive%20-%20FH%20Vorarlberg/Partnerunternehmen%20FHV/FH/BA/Code/Jupyter/CNN%20oneshot%20feature%20extraction.ipynb#ch0000003?line=57'>58</a>\u001b[0m \u001b[39mRUN MODEL\u001b[39;00m\n\u001b[0;32m     <a href='vscode-notebook-cell:/c%3A/Users/j.tschavoll/OneDrive%20-%20FH%20Vorarlberg/Partnerunternehmen%20FHV/FH/BA/Code/Jupyter/CNN%20oneshot%20feature%20extraction.ipynb#ch0000003?line=58'>59</a>\u001b[0m \u001b[39m\"\"\"\u001b[39;00m\n\u001b[1;32m---> <a href='vscode-notebook-cell:/c%3A/Users/j.tschavoll/OneDrive%20-%20FH%20Vorarlberg/Partnerunternehmen%20FHV/FH/BA/Code/Jupyter/CNN%20oneshot%20feature%20extraction.ipynb#ch0000003?line=59'>60</a>\u001b[0m p \u001b[39m=\u001b[39m N4CED\u001b[39m.\u001b[39;49mpredict(X)\n\u001b[0;32m     <a href='vscode-notebook-cell:/c%3A/Users/j.tschavoll/OneDrive%20-%20FH%20Vorarlberg/Partnerunternehmen%20FHV/FH/BA/Code/Jupyter/CNN%20oneshot%20feature%20extraction.ipynb#ch0000003?line=62'>63</a>\u001b[0m \u001b[39m\"\"\"\u001b[39;00m\n\u001b[0;32m     <a href='vscode-notebook-cell:/c%3A/Users/j.tschavoll/OneDrive%20-%20FH%20Vorarlberg/Partnerunternehmen%20FHV/FH/BA/Code/Jupyter/CNN%20oneshot%20feature%20extraction.ipynb#ch0000003?line=63'>64</a>\u001b[0m \u001b[39mPROCESS RESULTS\u001b[39;00m\n\u001b[0;32m     <a href='vscode-notebook-cell:/c%3A/Users/j.tschavoll/OneDrive%20-%20FH%20Vorarlberg/Partnerunternehmen%20FHV/FH/BA/Code/Jupyter/CNN%20oneshot%20feature%20extraction.ipynb#ch0000003?line=64'>65</a>\u001b[0m \u001b[39m\"\"\"\u001b[39;00m\n\u001b[0;32m     <a href='vscode-notebook-cell:/c%3A/Users/j.tschavoll/OneDrive%20-%20FH%20Vorarlberg/Partnerunternehmen%20FHV/FH/BA/Code/Jupyter/CNN%20oneshot%20feature%20extraction.ipynb#ch0000003?line=65'>66</a>\u001b[0m predicted \u001b[39m=\u001b[39m param_dict[\u001b[39m\"\u001b[39m\u001b[39mclass_map\u001b[39m\u001b[39m\"\u001b[39m][np\u001b[39m.\u001b[39margmax(np\u001b[39m.\u001b[39mmean(p, axis\u001b[39m=\u001b[39m\u001b[39m0\u001b[39m))]\n",
      "File \u001b[1;32mC:\\users\\j.tschavoll\\appdata\\local\\programs\\python\\python39\\lib\\site-packages\\keras\\utils\\traceback_utils.py:67\u001b[0m, in \u001b[0;36mfilter_traceback.<locals>.error_handler\u001b[1;34m(*args, **kwargs)\u001b[0m\n\u001b[0;32m     <a href='file:///c%3A/users/j.tschavoll/appdata/local/programs/python/python39/lib/site-packages/keras/utils/traceback_utils.py?line=64'>65</a>\u001b[0m \u001b[39mexcept\u001b[39;00m \u001b[39mException\u001b[39;00m \u001b[39mas\u001b[39;00m e:  \u001b[39m# pylint: disable=broad-except\u001b[39;00m\n\u001b[0;32m     <a href='file:///c%3A/users/j.tschavoll/appdata/local/programs/python/python39/lib/site-packages/keras/utils/traceback_utils.py?line=65'>66</a>\u001b[0m   filtered_tb \u001b[39m=\u001b[39m _process_traceback_frames(e\u001b[39m.\u001b[39m__traceback__)\n\u001b[1;32m---> <a href='file:///c%3A/users/j.tschavoll/appdata/local/programs/python/python39/lib/site-packages/keras/utils/traceback_utils.py?line=66'>67</a>\u001b[0m   \u001b[39mraise\u001b[39;00m e\u001b[39m.\u001b[39mwith_traceback(filtered_tb) \u001b[39mfrom\u001b[39;00m \u001b[39mNone\u001b[39m\n\u001b[0;32m     <a href='file:///c%3A/users/j.tschavoll/appdata/local/programs/python/python39/lib/site-packages/keras/utils/traceback_utils.py?line=67'>68</a>\u001b[0m \u001b[39mfinally\u001b[39;00m:\n\u001b[0;32m     <a href='file:///c%3A/users/j.tschavoll/appdata/local/programs/python/python39/lib/site-packages/keras/utils/traceback_utils.py?line=68'>69</a>\u001b[0m   \u001b[39mdel\u001b[39;00m filtered_tb\n",
      "File \u001b[1;32mC:\\users\\j.tschavoll\\appdata\\local\\programs\\python\\python39\\lib\\site-packages\\tensorflow\\python\\framework\\func_graph.py:1129\u001b[0m, in \u001b[0;36mfunc_graph_from_py_func.<locals>.autograph_handler\u001b[1;34m(*args, **kwargs)\u001b[0m\n\u001b[0;32m   <a href='file:///c%3A/users/j.tschavoll/appdata/local/programs/python/python39/lib/site-packages/tensorflow/python/framework/func_graph.py?line=1126'>1127</a>\u001b[0m \u001b[39mexcept\u001b[39;00m \u001b[39mException\u001b[39;00m \u001b[39mas\u001b[39;00m e:  \u001b[39m# pylint:disable=broad-except\u001b[39;00m\n\u001b[0;32m   <a href='file:///c%3A/users/j.tschavoll/appdata/local/programs/python/python39/lib/site-packages/tensorflow/python/framework/func_graph.py?line=1127'>1128</a>\u001b[0m   \u001b[39mif\u001b[39;00m \u001b[39mhasattr\u001b[39m(e, \u001b[39m\"\u001b[39m\u001b[39mag_error_metadata\u001b[39m\u001b[39m\"\u001b[39m):\n\u001b[1;32m-> <a href='file:///c%3A/users/j.tschavoll/appdata/local/programs/python/python39/lib/site-packages/tensorflow/python/framework/func_graph.py?line=1128'>1129</a>\u001b[0m     \u001b[39mraise\u001b[39;00m e\u001b[39m.\u001b[39mag_error_metadata\u001b[39m.\u001b[39mto_exception(e)\n\u001b[0;32m   <a href='file:///c%3A/users/j.tschavoll/appdata/local/programs/python/python39/lib/site-packages/tensorflow/python/framework/func_graph.py?line=1129'>1130</a>\u001b[0m   \u001b[39melse\u001b[39;00m:\n\u001b[0;32m   <a href='file:///c%3A/users/j.tschavoll/appdata/local/programs/python/python39/lib/site-packages/tensorflow/python/framework/func_graph.py?line=1130'>1131</a>\u001b[0m     \u001b[39mraise\u001b[39;00m\n",
      "\u001b[1;31mValueError\u001b[0m: in user code:\n\n    File \"C:\\users\\j.tschavoll\\appdata\\local\\programs\\python\\python39\\lib\\site-packages\\keras\\engine\\training.py\", line 1621, in predict_function  *\n        return step_function(self, iterator)\n    File \"C:\\users\\j.tschavoll\\appdata\\local\\programs\\python\\python39\\lib\\site-packages\\keras\\engine\\training.py\", line 1611, in step_function  **\n        outputs = model.distribute_strategy.run(run_step, args=(data,))\n    File \"C:\\users\\j.tschavoll\\appdata\\local\\programs\\python\\python39\\lib\\site-packages\\keras\\engine\\training.py\", line 1604, in run_step  **\n        outputs = model.predict_step(data)\n    File \"C:\\users\\j.tschavoll\\appdata\\local\\programs\\python\\python39\\lib\\site-packages\\keras\\engine\\training.py\", line 1572, in predict_step\n        return self(x, training=False)\n    File \"C:\\users\\j.tschavoll\\appdata\\local\\programs\\python\\python39\\lib\\site-packages\\keras\\utils\\traceback_utils.py\", line 67, in error_handler\n        raise e.with_traceback(filtered_tb) from None\n    File \"C:\\users\\j.tschavoll\\appdata\\local\\programs\\python\\python39\\lib\\site-packages\\keras\\engine\\input_spec.py\", line 263, in assert_input_compatibility\n        raise ValueError(f'Input {input_index} of layer \"{layer_name}\" is '\n\n    ValueError: Input 0 of layer \"sequential\" is incompatible with the layer: expected shape=(None, 48, 28, 1), found shape=(None, 40, 28, 1)\n"
     ]
    }
   ],
   "source": [
    "param_dict = conf.open_params()\n",
    "\n",
    "class_of_interest = \"dog_bark\"\n",
    "\n",
    "base_path = \"Datasets/UrbanSound8k_augmented/\" + class_of_interest + \"/\"\n",
    "stop_at = 1\n",
    "i = 0\n",
    "true = 0\n",
    "false = 0\n",
    "\n",
    "N4CED = load_model(param_dict[\"CNN_name\"])\n",
    "\n",
    "for file in os.listdir(base_path):\n",
    "\n",
    "    if(i == stop_at):\n",
    "        break\n",
    "\n",
    "    \"\"\"\n",
    "    LOAD DATA\n",
    "    \"\"\"\n",
    "    wav, fs = lr.load(base_path + file, sr=param_dict['fs'], duration=1)\n",
    "\n",
    "    if len(wav) < fs:\n",
    "        continue\n",
    "\n",
    "\n",
    "    \"\"\"\n",
    "    EXTRACT FEATURES\n",
    "    \"\"\"\n",
    "    feats, fcs = o3f.rolling_oct_bank(\n",
    "        wav,\n",
    "        fs,\n",
    "        param_dict['oct_bw_ratio'],\n",
    "        param_dict['order'],\n",
    "        param_dict['fmax'],\n",
    "        param_dict['fmin'],\n",
    "        param_dict['frame_size'],\n",
    "        param_dict['dec_stages'],\n",
    "        param_dict['dec_ord']\n",
    "    )\n",
    "\n",
    "\n",
    "    \"\"\"\n",
    "    RESHAPE FEATURES\n",
    "    \"\"\"\n",
    "    df = scale.feats2frames(feats, param_dict['frame_size'], fs)\n",
    "    df2c(\"../STM32/Nu_L5_embedded_CNN_PoC_V-0-1/Core/Inc/SW/ai_verify.txt\", df)\n",
    "\n",
    "    \"\"\"\n",
    "    SCALE FEATURES\n",
    "    \"\"\"\n",
    "    X, scaler = scale.data_scaler(df)\n",
    "\n",
    "\n",
    "    \"\"\"\n",
    "    RUN MODEL\n",
    "    \"\"\"\n",
    "    p = N4CED.predict(X)\n",
    "\n",
    "\n",
    "    \"\"\"\n",
    "    PROCESS RESULTS\n",
    "    \"\"\"\n",
    "    predicted = param_dict[\"class_map\"][np.argmax(np.mean(p, axis=0))]\n",
    "    print(f'Predicted class: \"{predicted}\" with {int(100 * (p[0][np.argmax(p, 1)][0]))} score.')\n",
    "    if predicted == class_of_interest:\n",
    "        true += 1\n",
    "    else:\n",
    "        false += 1\n",
    "    i += 1\n",
    "\n",
    "print('----- done. -----')\n",
    "print(f'{true} true predictions\\n{false} false predictions')\n",
    "print(f'test accuracy: {int((true/i)*100)}%\\nerror ratio: {int((false/i)*100)}%')"
   ]
  }
 ],
 "metadata": {
  "interpreter": {
   "hash": "0687a98b0160781757b3b9fa1a867d13e9830e123839aa8f211ed2ece874c462"
  },
  "kernelspec": {
   "display_name": "Python 3.10.1 64-bit",
   "language": "python",
   "name": "python3"
  },
  "language_info": {
   "codemirror_mode": {
    "name": "ipython",
    "version": 3
   },
   "file_extension": ".py",
   "mimetype": "text/x-python",
   "name": "python",
   "nbconvert_exporter": "python",
   "pygments_lexer": "ipython3",
   "version": "3.9.6"
  },
  "orig_nbformat": 4
 },
 "nbformat": 4,
 "nbformat_minor": 2
}
