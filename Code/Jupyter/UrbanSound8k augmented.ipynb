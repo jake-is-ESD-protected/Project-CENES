{
 "cells": [
  {
   "cell_type": "markdown",
   "id": "21905030-31d4-4eba-ab64-a0076fe67089",
   "metadata": {},
   "source": [
    "# Augmentation of the UrbanSound8k dataset"
   ]
  },
  {
   "cell_type": "code",
   "execution_count": 1,
   "id": "ac76a606-c661-4cd0-b17b-b6a2f1cd234b",
   "metadata": {},
   "outputs": [],
   "source": [
    "import augmolino.augmentation as augmolino\n",
    "import os\n",
    "import IPython.display as ipd\n",
    "\n",
    "user_mode = False"
   ]
  },
  {
   "cell_type": "code",
   "execution_count": 2,
   "id": "73e9636c-1bce-4386-a224-0de9b74e6d4e",
   "metadata": {},
   "outputs": [],
   "source": [
    "# Datasets/UrbanSound8k_augmented/\n",
    "if user_mode:\n",
    "    main_folder = input(\"Enter path to main folder: \")\n",
    "else:\n",
    "    main_folder = \"Datasets/UrbanSound8k_augmented/\""
   ]
  },
  {
   "cell_type": "code",
   "execution_count": 101,
   "id": "2af59912-70e4-4838-b31b-37bc446fb9a4",
   "metadata": {},
   "outputs": [
    {
     "name": "stdout",
     "output_type": "stream",
     "text": [
      "Starting augmentation, this may take some time...\n"
     ]
    },
    {
     "name": "stdin",
     "output_type": "stream",
     "text": [
      "Are you sure you want to proceed? y/n:  y\n"
     ]
    },
    {
     "name": "stdout",
     "output_type": "stream",
     "text": [
      "\n",
      "\n",
      "Augmenting...\n",
      "selected path: Datasets/UrbanSound8k_augmented/\n",
      "registered dirs: \n",
      "\tair_conditioner\n",
      "\tcar_horn\n",
      "\tchildren_playing\n",
      "\tdog_bark\n",
      "\tdrilling\n",
      "\tengine_idling\n",
      "\tgun_shot\n",
      "\tjackhammer\n",
      "\tsiren\n",
      "\tstreet_music\n",
      "\n",
      "Augmenting in Folder < air_conditioner >:\n",
      "\tfile: 100852-0-0-0.wav\n",
      "Folder < air_conditioner > done.\n",
      "\n",
      "\n",
      "augmentation done. 1 source files augmented to 1 new files. Total file count: 2\n"
     ]
    }
   ],
   "source": [
    "print(\"Starting augmentation, this may take some time...\")\n",
    "d = input(\"Are you sure you want to proceed? y/n: \")\n",
    "i = 0\n",
    "n_augmentations = 1\n",
    "if d == \"y\":\n",
    "\n",
    "    path, dirs, files = next(os.walk(main_folder))\n",
    "    print(\"\\n\\nAugmenting...\")\n",
    "    print(f'selected path: {path}')\n",
    "    dirs_format = '\\n\\t'.join(dirs)\n",
    "    print(f'registered dirs: \\n\\t{dirs_format}')\n",
    "    for nscls in dirs:\n",
    "        print(f'\\nAugmenting in Folder < {nscls} >:')\n",
    "        path, dirs, files = next(os.walk(main_folder + nscls + '/'))\n",
    "        for wav in files:\n",
    "            fp = main_folder + nscls + '/' + wav\n",
    "            print(f'\\tfile: {wav}')\n",
    "            fp_dest = main_folder + nscls + '/pSu_' + wav\n",
    "            i += 1\n",
    "            # Enter augmentation methods here:\n",
    "            #---------------------------------\n",
    "            \n",
    "            '''\n",
    "            As proposed by Justin Salamon & Juan Pablo Bello in \"Deep Convolutional Neural Networks and Data\n",
    "            Augmentation for Environmental Sound Classification\" it seems that \"pitch shift 1 & 2\" and \"back\n",
    "            ground noise\" yield the best increase in performance:\n",
    "            \n",
    "            --> wait for outdoorstations to give you long samples of bg-noise for the fuseAudio method\n",
    "            '''\n",
    "            \n",
    "            # augmolino.pitchShift(fp, fp_dest, 1)\n",
    "            # augmolino.pitchShift(fp, fp_dest, 2)\n",
    "            # augmolino.pitchShift(fp, fp_dest, -1)\n",
    "            # augmolino.pitchShift(fp, fp_dest, -2)\n",
    "            \n",
    "            #---------------------------------\n",
    "        print(f'Folder < {nscls} > done.')\n",
    "    print(f'\\n\\naugmentation done. {i} source files augmented to {i * n_augmentations} new files. Total file count: {i * (n_augmentations + 1)}')   \n",
    "else:\n",
    "    print(\"op cancelled.\")"
   ]
  },
  {
   "cell_type": "code",
   "execution_count": null,
   "id": "ef0a0fc0-6b07-497b-9dad-c7fcd575f9f3",
   "metadata": {},
   "outputs": [],
   "source": []
  }
 ],
 "metadata": {
  "kernelspec": {
   "display_name": "Python 3 (ipykernel)",
   "language": "python",
   "name": "python3"
  },
  "language_info": {
   "codemirror_mode": {
    "name": "ipython",
    "version": 3
   },
   "file_extension": ".py",
   "mimetype": "text/x-python",
   "name": "python",
   "nbconvert_exporter": "python",
   "pygments_lexer": "ipython3",
   "version": "3.9.6"
  }
 },
 "nbformat": 4,
 "nbformat_minor": 5
}
