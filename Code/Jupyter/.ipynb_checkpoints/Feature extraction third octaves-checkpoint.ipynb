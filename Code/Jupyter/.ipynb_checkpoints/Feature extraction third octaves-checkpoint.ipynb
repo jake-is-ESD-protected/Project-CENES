{
 "cells": [
  {
   "cell_type": "markdown",
   "id": "c33571d8-4c0c-4aac-84b0-82cac5df2974",
   "metadata": {},
   "source": [
    "# Feature extraction using 1/3 octave filters"
   ]
  },
  {
   "cell_type": "markdown",
   "id": "a94b9650-7acf-431e-9e87-2ec7535440d2",
   "metadata": {},
   "source": [
    "## 1. Preparing a csv-file"
   ]
  },
  {
   "cell_type": "code",
   "execution_count": 16,
   "id": "d232635a-75d9-4894-8f9a-3d774b1f3e98",
   "metadata": {},
   "outputs": [],
   "source": [
    "import csv \n",
    "\n",
    "user_mode = False"
   ]
  },
  {
   "cell_type": "code",
   "execution_count": 15,
   "id": "d403a78c-9f0f-44e5-b7f7-94e2ed76ce52",
   "metadata": {},
   "outputs": [
    {
     "name": "stdin",
     "output_type": "stream",
     "text": [
      "give your csv-file a name:  th_oct_feature\n"
     ]
    }
   ],
   "source": [
    "if user_mode:\n",
    "    csv_name = input(\"give your csv-file a name: \") + '.csv'\n",
    "else:\n",
    "    csv_name = \"Datasets/Feature_extraction/th_oct_feature.csv\"\n",
    "\n",
    "n_th_octvs = 32\n",
    "n_classes = 10\n",
    "header = 'fn class'\n",
    "for i in range(1, n_th_octvs):\n",
    "    header += f' th_octv{i}'\n",
    "header = header.split()\n",
    "\n",
    "csv_fp = 'Datasets/Feature_extraction/' + csv_name\n",
    "csv_file = open(csv_fp, 'w', newline='')\n",
    "with csv_file:\n",
    "    writer = csv.writer(csv_file)\n",
    "    writer.writerow(header)"
   ]
  },
  {
   "cell_type": "markdown",
   "id": "8f313863-4bb2-40e4-8d32-b8b01d5c1213",
   "metadata": {},
   "source": [
    "## 2. Filter calculation"
   ]
  },
  {
   "cell_type": "code",
   "execution_count": 17,
   "id": "60e5c178-b584-4500-ac89-944a16ad7ea2",
   "metadata": {},
   "outputs": [],
   "source": [
    "import numpy as np\n",
    "from scipy import signal\n",
    "import matplotlib.pyplot as plt\n",
    "import math as m\n",
    "\n",
    "fs = 22050\n",
    "fmin = 20\n",
    "fmax = 20480\n",
    "n_coeffs_p_section = 6\n",
    "n_sections = 3\n",
    "oct_bw_ratio = 1/3\n",
    "\n",
    "n_octs = m.log2(fmax/fmin)\n",
    "n_thirds = m.ceil(n_octs/oct_bw_ratio)\n",
    "\n",
    "    "
   ]
  }
 ],
 "metadata": {
  "kernelspec": {
   "display_name": "Python 3 (ipykernel)",
   "language": "python",
   "name": "python3"
  },
  "language_info": {
   "codemirror_mode": {
    "name": "ipython",
    "version": 3
   },
   "file_extension": ".py",
   "mimetype": "text/x-python",
   "name": "python",
   "nbconvert_exporter": "python",
   "pygments_lexer": "ipython3",
   "version": "3.9.6"
  }
 },
 "nbformat": 4,
 "nbformat_minor": 5
}
