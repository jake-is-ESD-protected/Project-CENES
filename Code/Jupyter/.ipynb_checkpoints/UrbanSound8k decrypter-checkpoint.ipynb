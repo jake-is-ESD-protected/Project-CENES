{
 "cells": [
  {
   "cell_type": "markdown",
   "metadata": {},
   "source": [
    "# UrbanSound8k decrypter\n",
    "\n",
    "*Turning the UrbanSound8k dataset into a class-based file structure for later augmentation*"
   ]
  },
  {
   "cell_type": "code",
   "execution_count": 1,
   "metadata": {},
   "outputs": [],
   "source": [
    "# needed imports\n",
    "import numpy as np\n",
    "import csv\n",
    "import os\n",
    "import shutil\n",
    "\n",
    "user_mode = False"
   ]
  },
  {
   "cell_type": "markdown",
   "metadata": {},
   "source": [
    "The following paragraph maps als file names to their class to reverse-engineer a class based file structure"
   ]
  },
  {
   "cell_type": "code",
   "execution_count": 2,
   "metadata": {},
   "outputs": [],
   "source": [
    "def unique(list1):\n",
    "    unique_list = []\n",
    "    for x in list1:\n",
    "        if x not in unique_list:\n",
    "            unique_list.append(x)\n",
    "    return unique_list"
   ]
  },
  {
   "cell_type": "code",
   "execution_count": 10,
   "metadata": {},
   "outputs": [],
   "source": [
    "# Datasets/UrbanSound8k/metadata/UrbanSound8k.csv\n",
    "if user_mode:\n",
    "    cmpath = input(\"Enter path to csv-file:\")\n",
    "else:\n",
    "    cmpath = \"Datasets/UrbanSound8k/metadata/UrbanSound8k.csv\"\n",
    "\n",
    "\n",
    "fields = []\n",
    "f_info = [[],[]]\n",
    "\n",
    "\n",
    "with open(cmpath, 'r') as csvfile:\n",
    "    csvreader = csv.reader(csvfile)\n",
    "    fields = next(csvreader)\n",
    "    for row in csvreader:\n",
    "        f_info[0].append(row[7])\n",
    "        f_info[1].append(row[0])\n",
    "        \n",
    "unique_classes = unique(classes)\n",
    "#print(classes)"
   ]
  },
  {
   "cell_type": "markdown",
   "metadata": {},
   "source": [
    "Generate a file structure according to unique classes"
   ]
  },
  {
   "cell_type": "code",
   "execution_count": 4,
   "metadata": {},
   "outputs": [],
   "source": [
    "# Datasets/UrbanSound8k_augmented/\n",
    "if user_mode:\n",
    "    target_folder = input(\"Enter path to new master folder for decryted dataset\")\n",
    "else:\n",
    "    target_folder = \"Datasets/UrbanSound8k_augmented/\"\n",
    "\n",
    "try:\n",
    "    os.mkdir(target_folder)\n",
    "    for i in unique_classes:\n",
    "        os.mkdir(target_folder + i + '/')\n",
    "except FileExistsError:\n",
    "    pass"
   ]
  },
  {
   "cell_type": "markdown",
   "metadata": {},
   "source": [
    "Fill file structure with the right samples"
   ]
  },
  {
   "cell_type": "code",
   "execution_count": 22,
   "metadata": {},
   "outputs": [
    {
     "ename": "IndentationError",
     "evalue": "expected an indented block (2622826528.py, line 15)",
     "output_type": "error",
     "traceback": [
      "\u001b[1;36m  Input \u001b[1;32mIn [22]\u001b[1;36m\u001b[0m\n\u001b[1;33m    if file == f_info[1][index]:\u001b[0m\n\u001b[1;37m    ^\u001b[0m\n\u001b[1;31mIndentationError\u001b[0m\u001b[1;31m:\u001b[0m expected an indented block\n"
     ]
    }
   ],
   "source": [
    "# Datasets/UrbanSound8k/audio/\n",
    "if user_mode:\n",
    "    source_folder = input(\"Enter path to audio source folder of original dataset\")\n",
    "else:\n",
    "    source_folder = \"Datasets/UrbanSound8k/audio/\"\n",
    "\n",
    "\n",
    "path, dirs, files = next(os.walk(source_folder))\n",
    "\n",
    "    \n",
    "for fold in dirs:\n",
    "    path, dirs, files = next(os.walk(source_folder + fold + '/'))\n",
    "    for file in files:\n",
    "        for index in range(len(f_info[1])):\n",
    "            if file == f_info[1][index]:\n",
    "                shutil.copy(source_folder + fold + '/' + file, target_folder + f_info[0][index])\n",
    "                print(file)\n",
    "                print(f_info[0][index])\n",
    "            index += 1    "
   ]
  }
 ],
 "metadata": {
  "interpreter": {
   "hash": "0b33825c86f59eb53ffe33fb53489aa32e5ec5daed1e0a8651777c2cf4c7e2b3"
  },
  "kernelspec": {
   "display_name": "Python 3 (ipykernel)",
   "language": "python",
   "name": "python3"
  },
  "language_info": {
   "codemirror_mode": {
    "name": "ipython",
    "version": 3
   },
   "file_extension": ".py",
   "mimetype": "text/x-python",
   "name": "python",
   "nbconvert_exporter": "python",
   "pygments_lexer": "ipython3",
   "version": "3.9.6"
  }
 },
 "nbformat": 4,
 "nbformat_minor": 4
}
