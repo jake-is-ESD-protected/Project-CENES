{
 "cells": [
  {
   "cell_type": "markdown",
   "id": "c33571d8-4c0c-4aac-84b0-82cac5df2974",
   "metadata": {},
   "source": [
    "# Feature extraction using 1/3 octave filters"
   ]
  },
  {
   "cell_type": "markdown",
   "id": "a94b9650-7acf-431e-9e87-2ec7535440d2",
   "metadata": {},
   "source": [
    "## 1. Preparing a csv-file"
   ]
  },
  {
   "cell_type": "code",
   "execution_count": 2,
   "id": "d232635a-75d9-4894-8f9a-3d774b1f3e98",
   "metadata": {},
   "outputs": [],
   "source": [
    "import csv \n",
    "\n",
    "user_mode = False"
   ]
  },
  {
   "cell_type": "code",
   "execution_count": 15,
   "id": "d403a78c-9f0f-44e5-b7f7-94e2ed76ce52",
   "metadata": {},
   "outputs": [
    {
     "name": "stdout",
     "output_type": "stream",
     "text": [
      "give your csv-file a name:  th_oct_feature\n"
     ]
    }
   ],
   "source": [
    "if user_mode == 'y':\n",
    "    csv_name = input(\"give your csv-file a name: \") + '.csv'\n",
    "else:\n",
    "    csv_name = \"Datasets/Feature_extraction/th_oct_feature.csv\"\n",
    "\n",
    "n_th_octvs = 32\n",
    "n_classes = 10\n",
    "header = 'fn class'\n",
    "for i in range(1, n_th_octvs):\n",
    "    header += f' th_octv{i}'\n",
    "header = header.split()\n",
    "\n",
    "csv_fp = 'Datasets/Feature_extraction/' + csv_name\n",
    "csv_file = open(csv_fp, 'w', newline='')\n",
    "with csv_file:\n",
    "    writer = csv.writer(csv_file)\n",
    "    writer.writerow(header)"
   ]
  },
  {
   "cell_type": "markdown",
   "id": "8f313863-4bb2-40e4-8d32-b8b01d5c1213",
   "metadata": {},
   "source": [
    "## 2. Filter calculation\n",
    "\n",
    "The actual calculation is provided by a Matlab script found [here](src/oct_filt_generator_for_py.m). Please run it at least once with the correct parameters. It writes to a [csv-file](Datasets/Feature_extraction/th_oct_coeffs.csv) containig all needed coefficients. The following code will try to open this file and extract the information."
   ]
  },
  {
   "cell_type": "code",
   "execution_count": 58,
   "id": "60e5c178-b584-4500-ac89-944a16ad7ea2",
   "metadata": {},
   "outputs": [
    {
     "name": "stdout",
     "output_type": "stream",
     "text": [
      "[[ 1.          0.         -1.         -1.20938766 -0.60865182  1.\n",
      "   0.         -1.         -1.88423014 -0.90262502  1.          0.\n",
      "  -1.         -1.4368614  -0.51428187]\n",
      " [ 1.          0.         -1.         -1.29134691 -0.81358916  1.\n",
      "   0.         -1.         -0.61800826 -0.75892884  1.          0.\n",
      "  -1.         -0.89090079 -0.59812689]\n",
      " [ 1.          0.         -1.         -0.5412789  -0.82813805  1.\n",
      "   0.         -1.          0.07425301 -0.82092905  1.          0.\n",
      "  -1.         -0.2194286  -0.66935933]\n",
      " [ 1.          0.         -1.          0.65082449 -0.86141717  1.\n",
      "   0.         -1.          0.16102681 -0.85328442  1.          0.\n",
      "  -1.          0.38444376 -0.72942561]\n",
      " [ 1.          0.         -1.         -1.29134691 -0.81358916  1.\n",
      "   0.         -1.         -0.61800826 -0.75892884  1.          0.\n",
      "  -1.         -0.89090079 -0.59812689]\n",
      " [ 1.          0.         -1.         -0.5412789  -0.82813805  1.\n",
      "   0.         -1.          0.07425301 -0.82092905  1.          0.\n",
      "  -1.         -0.2194286  -0.66935933]\n",
      " [ 1.          0.         -1.          0.65082449 -0.86141717  1.\n",
      "   0.         -1.          0.16102681 -0.85328442  1.          0.\n",
      "  -1.          0.38444376 -0.72942561]\n",
      " [ 1.          0.         -1.         -1.29134691 -0.81358916  1.\n",
      "   0.         -1.         -0.61800826 -0.75892884  1.          0.\n",
      "  -1.         -0.89090079 -0.59812689]\n",
      " [ 1.          0.         -1.         -0.5412789  -0.82813805  1.\n",
      "   0.         -1.          0.07425301 -0.82092905  1.          0.\n",
      "  -1.         -0.2194286  -0.66935933]\n",
      " [ 1.          0.         -1.          0.65082449 -0.86141717  1.\n",
      "   0.         -1.          0.16102681 -0.85328442  1.          0.\n",
      "  -1.          0.38444376 -0.72942561]\n",
      " [ 1.          0.         -1.         -1.29134691 -0.81358916  1.\n",
      "   0.         -1.         -0.61800826 -0.75892884  1.          0.\n",
      "  -1.         -0.89090079 -0.59812689]\n",
      " [ 1.          0.         -1.         -0.5412789  -0.82813805  1.\n",
      "   0.         -1.          0.07425301 -0.82092905  1.          0.\n",
      "  -1.         -0.2194286  -0.66935933]\n",
      " [ 1.          0.         -1.          0.65082449 -0.86141717  1.\n",
      "   0.         -1.          0.16102681 -0.85328442  1.          0.\n",
      "  -1.          0.38444376 -0.72942561]\n",
      " [ 1.          0.         -1.         -1.29134691 -0.81358916  1.\n",
      "   0.         -1.         -0.61800826 -0.75892884  1.          0.\n",
      "  -1.         -0.89090079 -0.59812689]\n",
      " [ 1.          0.         -1.         -0.5412789  -0.82813805  1.\n",
      "   0.         -1.          0.07425301 -0.82092905  1.          0.\n",
      "  -1.         -0.2194286  -0.66935933]\n",
      " [ 1.          0.         -1.          0.65082449 -0.86141717  1.\n",
      "   0.         -1.          0.16102681 -0.85328442  1.          0.\n",
      "  -1.          0.38444376 -0.72942561]\n",
      " [ 1.          0.         -1.          0.72061282 -0.87829399  1.\n",
      "   0.         -1.          1.08007193 -0.89108241  1.          0.\n",
      "  -1.          0.85942179 -0.77966768]\n",
      " [ 1.          0.         -1.          1.13021123 -0.90053564  1.\n",
      "   0.         -1.          1.38177955 -0.91380388  1.          0.\n",
      "  -1.          1.20776963 -0.82136166]\n",
      " [ 1.          0.         -1.          1.41599607 -0.91943902  1.\n",
      "   0.         -1.          1.58718824 -0.93156409  1.          0.\n",
      "  -1.          1.45350754 -0.85571146]\n",
      " [ 1.          0.         -1.          1.60995686 -0.93512845  1.\n",
      "   0.         -1.          1.7245965  -0.94558561  1.          0.\n",
      "  -1.          1.62319958 -0.88382941]\n",
      " [ 1.          0.         -1.          1.73957098 -0.94796807  1.\n",
      "   0.         -1.          1.81570673 -0.95671064  1.          0.\n",
      "  -1.          1.73915315 -0.90671873]\n",
      " [ 1.          0.         -1.          1.82551658 -0.95838106  1.\n",
      "   0.         -1.          1.87593186 -0.96555829  1.          0.\n",
      "  -1.          1.8181206  -0.92526454]\n",
      " [ 1.          0.         -1.          1.88236475 -0.96677536  1.\n",
      "   0.         -1.          1.91577935 -0.97260165  1.          0.\n",
      "  -1.          1.87198758 -0.94023234]\n",
      " [ 1.          0.         -1.          1.92001593 -0.9735142   1.\n",
      "   0.         -1.          1.94224918 -0.97821009  1.          0.\n",
      "  -1.          1.90892577 -0.95227355]\n",
      " [ 1.          0.         -1.          1.94505823 -0.97890824  1.\n",
      "   0.         -1.          1.95994496 -0.98267525  1.          0.\n",
      "  -1.          1.93445659 -0.96193486]\n",
      " [ 1.          0.         -1.          1.96182382 -0.98321676  1.\n",
      "   0.         -1.          1.97187424 -0.98622918  1.          0.\n",
      "  -1.          1.95227718 -0.96967   ]\n",
      " [ 1.          0.         -1.          1.97314394 -0.98665291  1.\n",
      "   0.         -1.          1.97999692 -0.98905677  1.          0.\n",
      "  -1.          1.96485543 -0.97585219]\n",
      " [ 1.          0.         -1.          1.98086488 -0.98939025  1.\n",
      "   0.         -1.          1.98559022 -0.99130565  1.          0.\n",
      "  -1.          1.97383928 -0.98078638]\n",
      " [ 1.          0.         -1.          1.98619103 -0.99156904  1.\n",
      "   0.         -1.          1.98948932 -0.99309367  1.          0.\n",
      "  -1.          1.98033404 -0.98471999]\n",
      " [ 1.          0.         -1.          1.98991072 -0.99330211  1.\n",
      "   0.         -1.          1.99224234 -0.99451482  1.          0.\n",
      "  -1.          1.98508549 -0.98785323]\n",
      " [ 1.          0.         -1.          1.99254191 -0.99467999  1.\n",
      "   0.         -1.          1.99421155 -0.99564409  1.          0.\n",
      "  -1.          1.98860121 -0.99034703]]\n"
     ]
    }
   ],
   "source": [
    "import librosa as lr\n",
    "import numpy as np\n",
    "\n",
    "sanity_check = input(\"Has the Matlab script been run at least once? (y/n): \")\n",
    "\n",
    "if sanity_check == \"y\":\n",
    "    csv_coeff_file = open(\"Datasets/Feature_extraction/th_oct_coeffs.csv\", 'r')\n",
    "    coeff_arr = np.zeros((31,15))\n",
    "    with csv_coeff_file:\n",
    "        coeff_reader = csv.reader(csv_coeff_file)\n",
    "        next(coeff_reader, None) # jump over header\n",
    "        i = 0\n",
    "        for each_row in coeff_reader:\n",
    "            each_row = np.array(each_row, dtype=np.float32)\n",
    "            coeff_arr[i] = each_row\n",
    "            i = i+1\n",
    "        print(coeff_arr)\n",
    "        \n",
    "else:\n",
    "    print(\"Aborting data extraction, please run script first!\")    "
   ]
  },
  {
   "cell_type": "code",
   "execution_count": null,
   "id": "eccaac46",
   "metadata": {},
   "outputs": [],
   "source": []
  }
 ],
 "metadata": {
  "kernelspec": {
   "display_name": "Python 3 (ipykernel)",
   "language": "python",
   "name": "python3"
  },
  "language_info": {
   "codemirror_mode": {
    "name": "ipython",
    "version": 3
   },
   "file_extension": ".py",
   "mimetype": "text/x-python",
   "name": "python",
   "nbconvert_exporter": "python",
   "pygments_lexer": "ipython3",
   "version": "3.10.1"
  }
 },
 "nbformat": 4,
 "nbformat_minor": 5
}
