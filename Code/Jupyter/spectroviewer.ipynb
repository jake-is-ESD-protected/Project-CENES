{
 "cells": [
  {
   "cell_type": "markdown",
   "metadata": {},
   "source": [
    "# Spectrogram-visualizer from embedded data"
   ]
  },
  {
   "cell_type": "code",
   "execution_count": 1,
   "metadata": {},
   "outputs": [],
   "source": [
    "\n",
    "import serial\n",
    "import numpy as np\n",
    "import matplotlib.pyplot as plt\n",
    "import matplotlib.animation as animation\n",
    "import IPython\n",
    "import pipeline.config as conf\n",
    "import octafilt3r.filter as o3f\n",
    "\n",
    "param_dict = conf.open_params()\n",
    "srl = serial.Serial(\"COM11\", 115200)\n"
   ]
  },
  {
   "cell_type": "code",
   "execution_count": 2,
   "metadata": {},
   "outputs": [],
   "source": [
    "fcs, fls, fus, n_bands = o3f._gen_fc_fl_fu(param_dict[\"fmax\"], \n",
    "                                           param_dict[\"fmin\"], \n",
    "                                           param_dict[\"oct_bw_ratio\"])\n",
    "\n",
    "init_data = np.random.rand(param_dict[\"n_bands\"], param_dict[\"fps\"])\n",
    "ylabels = []\n",
    "bin2freq = np.arange(param_dict[\"n_bands\"])\n",
    "for i in range(len(fcs)):\n",
    "    ylabels.append(str(int(fcs[i])))"
   ]
  },
  {
   "cell_type": "code",
   "execution_count": 3,
   "metadata": {},
   "outputs": [],
   "source": [
    "\n",
    "fig, ax = plt.subplots(figsize=(12, 8))\n",
    "plt.title(\"Spectroviewer\")\n",
    "plt.xlabel(\"Frames\")\n",
    "plt.ylabel(\"Hz\")\n",
    "ax.set_yticks(bin2freq)\n",
    "ax.set_yticklabels(ylabels)\n",
    "im = ax.imshow( init_data, interpolation='nearest', \n",
    "                origin='lower', \n",
    "                aspect='auto', # get rid of this to have equal aspect\n",
    "                vmin=np.min(param_dict[\"threshold\"]),\n",
    "                vmax=np.max(5), \n",
    "                cmap='rainbow')\n",
    "cb = plt.colorbar(im, label='dBFS-LEQ')\n",
    "\n",
    "srl.flushInput()\n",
    "\n",
    "def animate(i):\n",
    "    spec = []\n",
    "    if(srl.inWaiting() != 0):\n",
    "        raw = str(srl.readline())[2:-5]\n",
    "        srl.flushInput()\n",
    "        chunks = raw.split(' ')[:-1]\n",
    "        if(np.asarray(chunks).shape != (700,)):\n",
    "            return None\n",
    "\n",
    "        for i in range(25):\n",
    "            frame = [float(numeric_string) for numeric_string in chunks[28 * i: 28 * (i + 1)]]\n",
    "            spec.append(np.asarray(frame[::-1]))\n",
    "            \n",
    "        spec = np.asarray(spec).T  \n",
    "        im.set_data(spec)\n",
    "\n",
    "ani = animation.FuncAnimation(fig, animate, interval=1000)\n",
    "plt.show()\n"
   ]
  }
 ],
 "metadata": {
  "kernelspec": {
   "display_name": "Python 3 (ipykernel)",
   "language": "python",
   "name": "python3"
  },
  "language_info": {
   "codemirror_mode": {
    "name": "ipython",
    "version": 3
   },
   "file_extension": ".py",
   "mimetype": "text/x-python",
   "name": "python",
   "nbconvert_exporter": "python",
   "pygments_lexer": "ipython3",
   "version": "3.9.6"
  },
  "vscode": {
   "interpreter": {
    "hash": "b31d71e4aa4037fed73b4783f033a01dc4358c0a13d4b99ab1e5c40483db12d5"
   }
  }
 },
 "nbformat": 4,
 "nbformat_minor": 4
}
